{
 "cells": [
  {
   "cell_type": "code",
   "execution_count": 5,
   "id": "dc083134",
   "metadata": {},
   "outputs": [
    {
     "data": {
      "text/plain": [
       "(6.782329983125268, 6.782329983125268)"
      ]
     },
     "execution_count": 5,
     "metadata": {},
     "output_type": "execute_result"
    }
   ],
   "source": [
    "import numpy as np\n",
    "import math\n",
    "\n",
    "def norm(v):\n",
    "    s = 0\n",
    "    for value in v:\n",
    "        s += value ** 2\n",
    "    return math.sqrt(s)\n",
    "\n",
    "a = np.array([1, 3, 6])\n",
    "b = np.array([4, 5, 6])\n",
    "np.linalg.norm(a), norm(a)"
   ]
  },
  {
   "cell_type": "code",
   "execution_count": 8,
   "id": "f6e3fe42",
   "metadata": {},
   "outputs": [
    {
     "data": {
      "text/plain": [
       "array([ 1, -1,  3])"
      ]
     },
     "execution_count": 8,
     "metadata": {},
     "output_type": "execute_result"
    }
   ],
   "source": [
    "P = np.array([1, -1, 1])\n",
    "Q = np.array([1, 1, 3])\n",
    "P * Q"
   ]
  },
  {
   "cell_type": "code",
   "execution_count": 13,
   "id": "77ab31b8",
   "metadata": {},
   "outputs": [
    {
     "data": {
      "text/plain": [
       "-5.0"
      ]
     },
     "execution_count": 13,
     "metadata": {},
     "output_type": "execute_result"
    }
   ],
   "source": [
    "math.log(1e-5, 10)"
   ]
  },
  {
   "cell_type": "code",
   "execution_count": 14,
   "id": "00f5b219",
   "metadata": {},
   "outputs": [
    {
     "data": {
      "text/plain": [
       "1e-05"
      ]
     },
     "execution_count": 14,
     "metadata": {},
     "output_type": "execute_result"
    }
   ],
   "source": []
  },
  {
   "cell_type": "code",
   "execution_count": null,
   "id": "034da0af",
   "metadata": {},
   "outputs": [],
   "source": []
  }
 ],
 "metadata": {
  "kernelspec": {
   "display_name": "Python 3",
   "language": "python",
   "name": "python3"
  },
  "language_info": {
   "codemirror_mode": {
    "name": "ipython",
    "version": 3
   },
   "file_extension": ".py",
   "mimetype": "text/x-python",
   "name": "python",
   "nbconvert_exporter": "python",
   "pygments_lexer": "ipython3",
   "version": "3.8.8"
  }
 },
 "nbformat": 4,
 "nbformat_minor": 5
}
