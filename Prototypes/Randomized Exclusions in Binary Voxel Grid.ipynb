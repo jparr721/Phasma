{
 "cells": [
  {
   "cell_type": "code",
   "execution_count": 44,
   "id": "540f4835",
   "metadata": {},
   "outputs": [
    {
     "name": "stdout",
     "output_type": "stream",
     "text": [
      "[0, 11, 22, 33, 44]\n"
     ]
    },
    {
     "data": {
      "image/png": "[encoded data removed]",
      "text/plain": [
       "<Figure size 432x288 with 1 Axes>"
      ]
     },
     "metadata": {
      "needs_background": "light"
     },
     "output_type": "display_data"
    }
   ],
   "source": [
    "import numpy as np\n",
    "import random\n",
    "import matplotlib.pyplot as plt\n",
    "import matplotlib\n",
    "from typing import Tuple, Set, List\n",
    "from enum import Enum\n",
    "from itertools import permutations, combinations_with_replacement\n",
    "import math\n",
    "\n",
    "cmap = matplotlib.colors.ListedColormap(['r', 'k'])\n",
    "norm = matplotlib.colors.BoundaryNorm([0., 0.5, 1.], cmap.N)\n",
    "\n",
    "def imshow(data, cmap, norm):\n",
    "    plt.imshow(data, cmap=cmap, norm=norm, interpolation='none')\n",
    "\n",
    "class RandomExclusionSet(object):\n",
    "    def __init__(self, *, n_voids, size, depth, layer, rows):\n",
    "        self.n_voids = n_voids\n",
    "        self.size = size\n",
    "        self.depth = depth\n",
    "        self.layer = layer\n",
    "        self.rows = rows\n",
    "        self.cols = self.n_voids // self.rows\n",
    "        \n",
    "    def __len__(self):\n",
    "        return self.n_voids * self.size\n",
    "        \n",
    "class IsotropicVoxelGrid(object):\n",
    "    def __init__(\n",
    "        self, \n",
    "        dataset_size: int,\n",
    "        layers: int,\n",
    "    ):\n",
    "        self.dataset_size = dataset_size\n",
    "        self.layers = layers\n",
    "        \n",
    "    def __call__(self, exclusions: [RandomExclusionSet]):\n",
    "        self.grid = np.ones((self.layers, self.dataset_size, self.dataset_size))\n",
    "        for exclusion in exclusions:\n",
    "            self._apply_exclusion(exclusion)\n",
    "        \n",
    "    def _apply_exclusion(self, exclusion: RandomExclusionSet):\n",
    "        # Evenly subdivide along y-axis\n",
    "        y_axis_origins = np.linspace(\n",
    "            exclusion.size + 1, \n",
    "            self.dataset_size-(exclusion.size + 1), \n",
    "            num=exclusion.rows\n",
    "        ) if exclusion.rows > 1 else [math.ceil(self.dataset_size / 2)]\n",
    "\n",
    "        centroids = []\n",
    "        for row in range(exclusion.rows):\n",
    "            x_axis_layout = np.linspace(\n",
    "                exclusion.size + 1, \n",
    "                self.dataset_size - (exclusion.size + 1), \n",
    "                num=exclusion.cols\n",
    "            )\n",
    "            y_axis_val = y_axis_origins[row]\n",
    "\n",
    "            for x_axis_val in x_axis_layout:\n",
    "                centroids.append((int(x_axis_val), int(y_axis_val)))\n",
    "        indices = []\n",
    "        for centroid in centroids:\n",
    "            indices.extend(self._construct_cube_indices(centroid, exclusion.layer, exclusion.depth, exclusion.size))\n",
    "\n",
    "        self._set_shape_from_indices(indices)\n",
    "        \n",
    "    \n",
    "    def _set_shape_from_indices(self, indices: List[Tuple[int, int, int]]):\n",
    "        for index in indices:\n",
    "            self.grid[index[0]][index[1]][index[2]] = 0\n",
    "    \n",
    "    def _construct_cube_indices(self, centroid: Tuple[int, int], layer: int, depth: int, size: int):\n",
    "        indices = []\n",
    "\n",
    "        for l in range(layer, layer + depth):\n",
    "            cur_x = centroid[0]\n",
    "            cur_y = centroid[1]\n",
    "            for x in range(size):\n",
    "                for y in range(size):\n",
    "                    indices.append((l, cur_x + x, cur_y + y))\n",
    "                    indices.append((l, cur_x - x, cur_y - y))\n",
    "                    indices.append((l, cur_x - x, cur_y + y))\n",
    "                    indices.append((l, cur_x + x, cur_y - y))\n",
    "                \n",
    "        indices = list(set(indices))\n",
    "        return indices\n",
    "\n",
    "isotropic_solver = IsotropicVoxelGrid(50, 50)\n",
    "solver_sets = [\n",
    "    RandomExclusionSet(n_voids=20, size=3, depth=5, layer=i, rows=5)\n",
    "    for i in range(0, isotropic_solver.layers, 11)\n",
    "]\n",
    "\n",
    "print(solver_items)\n",
    "isotropic_solver(solver_sets)\n",
    "imshow(isotropic_solver.grid[0], cmap, norm)"
   ]
  },
  {
   "cell_type": "code",
   "execution_count": 46,
   "id": "6297c50c",
   "metadata": {},
   "outputs": [
    {
     "data": {
      "image/png": "[encoded data removed]",
      "text/plain": [
       "<Figure size 432x288 with 1 Axes>"
      ]
     },
     "metadata": {
      "needs_background": "light"
     },
     "output_type": "display_data"
    }
   ],
   "source": [
    "imshow(isotropic_solver.grid[11], cmap, norm)"
   ]
  },
  {
   "cell_type": "code",
   "execution_count": 48,
   "id": "1fb6beb9",
   "metadata": {},
   "outputs": [
    {
     "data": {
      "image/png": "[encoded data removed]",
      "text/plain": [
       "<Figure size 432x288 with 1 Axes>"
      ]
     },
     "metadata": {
      "needs_background": "light"
     },
     "output_type": "display_data"
    }
   ],
   "source": [
    "imshow(isotropic_solver.grid[16], cmap, norm)"
   ]
  },
  {
   "cell_type": "code",
   "execution_count": 49,
   "id": "67688a8c",
   "metadata": {},
   "outputs": [
    {
     "data": {
      "image/png": "[encoded data removed]",
      "text/plain": [
       "<Figure size 432x288 with 1 Axes>"
      ]
     },
     "metadata": {
      "needs_background": "light"
     },
     "output_type": "display_data"
    }
   ],
   "source": [
    "imshow(isotropic_solver.grid[45], cmap, norm)"
   ]
  },
  {
   "cell_type": "code",
   "execution_count": null,
   "id": "8f00461b",
   "metadata": {},
   "outputs": [],
   "source": []
  }
 ],
 "metadata": {
  "kernelspec": {
   "display_name": "Python 3",
   "language": "python",
   "name": "python3"
  },
  "language_info": {
   "codemirror_mode": {
    "name": "ipython",
    "version": 3
   },
   "file_extension": ".py",
   "mimetype": "text/x-python",
   "name": "python",
   "nbconvert_exporter": "python",
   "pygments_lexer": "ipython3",
   "version": "3.8.8"
  }
 },
 "nbformat": 4,
 "nbformat_minor": 5
}
