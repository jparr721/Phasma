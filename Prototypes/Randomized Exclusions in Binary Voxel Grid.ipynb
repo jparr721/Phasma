{
 "cells": [
  {
   "cell_type": "code",
   "execution_count": 1,
   "id": "540f4835",
   "metadata": {},
   "outputs": [
    {
     "data": {
      "text/plain": [
       "<matplotlib.image.AxesImage at 0x20a58b5e640>"
      ]
     },
     "execution_count": 1,
     "metadata": {},
     "output_type": "execute_result"
    },
    {
     "data": {
      "image/png": "[encoded data removed]",
      "text/plain": [
       "<Figure size 432x288 with 1 Axes>"
      ]
     },
     "metadata": {
      "needs_background": "light"
     },
     "output_type": "display_data"
    }
   ],
   "source": [
    "import numpy as np\n",
    "import random\n",
    "import matplotlib.pyplot as plt\n",
    "from typing import Tuple, Set, List\n",
    "from enum import Enum\n",
    "from itertools import permutations, combinations_with_replacement\n",
    "import math\n",
    "\n",
    "class LayoutType(Enum):\n",
    "    CENTER = 0x00\n",
    "    SPACED_EVENLY = 0x01\n",
    "    SPACED_VERTICALLY = 0x02\n",
    "    SPACED_HORIZONTALLY = 0x03\n",
    "    \n",
    "class Shape(Enum):\n",
    "    CUBE = 0x00\n",
    "    CIRCLE = 0x01\n",
    "\n",
    "class RandomExclusionSet(object):\n",
    "    def __init__(self, n_voids=4, size=5):\n",
    "        if size % 2 == 0:\n",
    "            raise ValueError('Size Must Be Odd')\n",
    "            \n",
    "        if n_voids %2 != 0:\n",
    "            raise ValueError('Number of Voids Must Be Even')\n",
    "            \n",
    "        self.n_voids = n_voids\n",
    "        self.size = size\n",
    "        \n",
    "    def __len__(self):\n",
    "        return self.n_voids * self.size\n",
    "        \n",
    "class IsotropicVoxelGrid(object):\n",
    "    def __init__(\n",
    "        self, \n",
    "        dataset_size: int, \n",
    "        layout_type: LayoutType, \n",
    "        shape: Shape\n",
    "    ):\n",
    "        self.grid = np.ones((dataset_size, dataset_size, dataset_size))\n",
    "        self.layout_type = layout_type\n",
    "        self.shape = shape\n",
    "        \n",
    "    def __call__(self, exclusions: RandomExclusionSet):\n",
    "        if self.layout_type == LayoutType.CENTER:\n",
    "            self._set_shape_from_indices(\n",
    "                self._construct_cube_indices(\n",
    "                    (self.grid.shape[0]//2, self.grid.shape[1]//2), 2))\n",
    "                \n",
    "        elif self.layout_type == LayoutType.SPACED_EVENLY:\n",
    "            horizontal_space_needed = len(exclusions) + 2 * exclusions.n_voids \n",
    "            rows_needed = 1\n",
    "            elements_per_row = exclusions.n_voids\n",
    "            \n",
    "            # Must include appropriate spacing for edge-based voids\n",
    "            while horizontal_space_needed > self.grid.shape[0] - ((2 * exclusions.size) + 1):\n",
    "                elements_per_row /= 2\n",
    "                horizontal_space_needed = elements_per_row * exclusions.size\n",
    "                rows_needed += 1\n",
    "                \n",
    "            # Evenly subdivide along y-axis\n",
    "            y_axis_origins = np.linspace(\n",
    "                exclusions.size + 1, \n",
    "                self.grid.shape[0]-(exclusions.size + 1), \n",
    "                num=rows_needed\n",
    "            ) if rows_needed > 1 else [math.ceil(self.grid.shape[0] / 2)]\n",
    "            \n",
    "            centroids = []\n",
    "            for row in range(rows_needed):\n",
    "                x_axis_layout = np.linspace(\n",
    "                    exclusions.size + 1, \n",
    "                    self.grid.shape[0] - (exclusions.size + 1), \n",
    "                    num=int(elements_per_row)\n",
    "                )\n",
    "                y_axis_val = y_axis_origins[row]\n",
    "                \n",
    "                for x_axis_val in x_axis_layout:\n",
    "                    centroids.append((int(x_axis_val), int(y_axis_val)))\n",
    "            indices = []\n",
    "            for centroid in centroids:\n",
    "                indices.extend(self._construct_cube_indices(centroid, exclusions.size))\n",
    "                \n",
    "            self._set_shape_from_indices(indices)\n",
    "    \n",
    "    def _set_shape_from_indices(self, indices: List[int]):\n",
    "        for z in range(self.grid.shape[0]):\n",
    "            for index in indices:\n",
    "                self.grid[z][index[0]][index[1]] = 0\n",
    "    \n",
    "    def _construct_cube_indices(self, centroid: Tuple[int, int], size: int):\n",
    "        indices = []\n",
    "        \n",
    "        # Top-Half\n",
    "        cur_x = centroid[0]\n",
    "        cur_y = centroid[1]\n",
    "        for x in range(size):\n",
    "            for y in range(size):\n",
    "                indices.append((cur_x + x, cur_y + y))\n",
    "                \n",
    "        cur_x = centroid[0]\n",
    "        cur_y = centroid[1]\n",
    "        for x in range(size):\n",
    "            for y in range(size):\n",
    "                indices.append((cur_x - x, cur_y - y))\n",
    "                \n",
    "        cur_x = centroid[0]\n",
    "        cur_y = centroid[1]\n",
    "        for x in range(size):\n",
    "            for y in range(size):\n",
    "                indices.append((cur_x - x, cur_y + y))\n",
    "                \n",
    "        cur_x = centroid[0]\n",
    "        cur_y = centroid[1]\n",
    "        for x in range(size):\n",
    "            for y in range(size):\n",
    "                indices.append((cur_x + x, cur_y - y))\n",
    "                \n",
    "        indices = list(set(indices))\n",
    "        return indices\n",
    "    \n",
    "    def _construct_circle_indices(centroid: Tuple[int, int], size: int):\n",
    "        raise NotImplemented\n",
    "\n",
    "isotropic_solver = IsotropicVoxelGrid(50, LayoutType.SPACED_EVENLY, Shape.CUBE)\n",
    "isotropic_solver(RandomExclusionSet(8, 5))\n",
    "plt.imshow(isotropic_solver.grid[0], cmap='hot', interpolation='nearest')\n"
   ]
  },
  {
   "cell_type": "code",
   "execution_count": 3,
   "id": "6297c50c",
   "metadata": {},
   "outputs": [
    {
     "data": {
      "text/plain": [
       "<matplotlib.image.AxesImage at 0x20a5931ca30>"
      ]
     },
     "execution_count": 3,
     "metadata": {},
     "output_type": "execute_result"
    },
    {
     "data": {
      "image/png": "[encoded data removed]",
      "text/plain": [
       "<Figure size 432x288 with 1 Axes>"
      ]
     },
     "metadata": {
      "needs_background": "light"
     },
     "output_type": "display_data"
    }
   ],
   "source": [
    "plt.imshow(isotropic_solver.grid[19], cmap='hot', interpolation='nearest')"
   ]
  },
  {
   "cell_type": "code",
   "execution_count": null,
   "id": "05b287f7",
   "metadata": {},
   "outputs": [],
   "source": []
  }
 ],
 "metadata": {
  "kernelspec": {
   "display_name": "Python 3",
   "language": "python",
   "name": "python3"
  },
  "language_info": {
   "codemirror_mode": {
    "name": "ipython",
    "version": 3
   },
   "file_extension": ".py",
   "mimetype": "text/x-python",
   "name": "python",
   "nbconvert_exporter": "python",
   "pygments_lexer": "ipython3",
   "version": "3.8.8"
  }
 },
 "nbformat": 4,
 "nbformat_minor": 5
}
