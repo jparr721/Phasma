{
 "cells": [
  {
   "cell_type": "code",
   "execution_count": 16,
   "metadata": {},
   "outputs": [
    {
     "data": {
      "image/png": "[encoded data removed]",
      "text/plain": [
       "<Figure size 432x288 with 1 Axes>"
      ]
     },
     "metadata": {
      "needs_background": "light"
     },
     "output_type": "display_data"
    }
   ],
   "source": [
    "import numpy as np\r\n",
    "import random\r\n",
    "import matplotlib.pyplot as plt\r\n",
    "import matplotlib\r\n",
    "from typing import Tuple, Set, List\r\n",
    "from enum import Enum\r\n",
    "from itertools import permutations, combinations_with_replacement\r\n",
    "import collections\r\n",
    "import math\r\n",
    "\r\n",
    "cmap = matplotlib.colors.ListedColormap(['r', 'k'])\r\n",
    "norm = matplotlib.colors.BoundaryNorm([0., 0.5, 1.], cmap.N)\r\n",
    "\r\n",
    "def imshow(data, cmap, norm):\r\n",
    "    plt.imshow(data, cmap=cmap, norm=norm, interpolation='none')\r\n",
    "\r\n",
    "class RandomExclusionSet(object):\r\n",
    "    def __init__(self, *, n_voids, size, depth, layer, rows):\r\n",
    "        self.n_voids = n_voids\r\n",
    "        self.size = size\r\n",
    "        self.depth = depth\r\n",
    "        self.layer = layer\r\n",
    "        self.rows = rows\r\n",
    "        self.cols = self.n_voids // self.rows\r\n",
    "        \r\n",
    "    def __len__(self):\r\n",
    "        return self.n_voids * self.size\r\n",
    "        \r\n",
    "class IsotropicVoxelGrid(object):\r\n",
    "    def __init__(\r\n",
    "        self, \r\n",
    "        dataset_size: int,\r\n",
    "        layers: int,\r\n",
    "    ):\r\n",
    "        self.dataset_size = dataset_size\r\n",
    "        self.layers = layers\r\n",
    "        \r\n",
    "    def __call__(self, exclusions: List[RandomExclusionSet]):\r\n",
    "        self.grid = np.ones((self.layers, self.dataset_size, self.dataset_size))\r\n",
    "        for exclusion in exclusions:\r\n",
    "            self._apply_exclusion(exclusion)\r\n",
    "        \r\n",
    "    def _apply_exclusion(self, exclusion: RandomExclusionSet):\r\n",
    "        # Evenly subdivide along y-axis\r\n",
    "        y_axis_origins = np.linspace(\r\n",
    "            exclusion.size + 1, \r\n",
    "            self.dataset_size-(exclusion.size + 1), \r\n",
    "            num=exclusion.rows\r\n",
    "        ) if exclusion.rows > 1 else [math.ceil(self.dataset_size / 2)]\r\n",
    "\r\n",
    "        centroids = []\r\n",
    "        for row in range(exclusion.rows):\r\n",
    "            x_axis_layout = np.linspace(\r\n",
    "                exclusion.size + 1, \r\n",
    "                self.dataset_size - (exclusion.size + 1), \r\n",
    "                num=exclusion.cols\r\n",
    "            )\r\n",
    "            y_axis_val = y_axis_origins[row]\r\n",
    "\r\n",
    "            for x_axis_val in x_axis_layout:\r\n",
    "                centroids.append((int(x_axis_val), int(y_axis_val)))\r\n",
    "        indices = []\r\n",
    "        for centroid in centroids:\r\n",
    "            indices.extend(self._construct_cube_indices(centroid, exclusion.layer, exclusion.depth, exclusion.size))\r\n",
    "\r\n",
    "        self._set_shape_from_indices(indices)\r\n",
    "        \r\n",
    "    \r\n",
    "    def _set_shape_from_indices(self, indices: List[Tuple[int, int, int]]):\r\n",
    "        for index in indices:\r\n",
    "            self.grid[index[0]][index[1]][index[2]] = 0\r\n",
    "    \r\n",
    "    def _construct_cube_indices(self, centroid: Tuple[int, int], layer: int, depth: int, size: int):\r\n",
    "        indices = []\r\n",
    "\r\n",
    "        for l in range(layer, layer + depth):\r\n",
    "            cur_x = centroid[0]\r\n",
    "            cur_y = centroid[1]\r\n",
    "            for x in range(size):\r\n",
    "                for y in range(size):\r\n",
    "                    indices.append((l, cur_x + x, cur_y + y))\r\n",
    "                    indices.append((l, cur_x - x, cur_y - y))\r\n",
    "                    indices.append((l, cur_x - x, cur_y + y))\r\n",
    "                    indices.append((l, cur_x + x, cur_y - y))\r\n",
    "\r\n",
    "        indices = list(set(indices))\r\n",
    "        return indices\r\n",
    "\r\n",
    "isotropic_solver = IsotropicVoxelGrid(21, 21)\r\n",
    "solver_sets = [\r\n",
    "    RandomExclusionSet(n_voids=15, size=1, depth=5, layer=i, rows=3)\r\n",
    "    for i in range(0, isotropic_solver.layers, 11)\r\n",
    "]\r\n",
    "\r\n",
    "isotropic_solver(solver_sets)\r\n",
    "imshow(isotropic_solver.grid[0], cmap, norm)"
   ]
  },
  {
   "cell_type": "code",
   "execution_count": 2,
   "metadata": {},
   "outputs": [
    {
     "data": {
      "text/plain": [
       "array([[ 1.00e-04, -6.00e-05, -9.00e-05,  0.00e+00,  0.00e+00,  0.00e+00],\n",
       "       [ 0.00e+00,  2.00e-04, -9.00e-05,  0.00e+00,  0.00e+00,  0.00e+00],\n",
       "       [ 0.00e+00,  0.00e+00,  3.00e-04,  0.00e+00,  0.00e+00,  0.00e+00],\n",
       "       [ 0.00e+00,  0.00e+00,  0.00e+00,  1.04e-03,  0.00e+00,  0.00e+00],\n",
       "       [ 0.00e+00,  0.00e+00,  0.00e+00,  0.00e+00,  1.30e-03,  0.00e+00],\n",
       "       [ 0.00e+00,  0.00e+00,  0.00e+00,  0.00e+00,  0.00e+00,  1.56e-03]])"
      ]
     },
     "execution_count": 2,
     "metadata": {},
     "output_type": "execute_result"
    }
   ],
   "source": [
    "class IsotropicLinearComplianceMatrix(object):\r\n",
    "    \"\"\"\r\n",
    "    Compliance matrix for a linear tetrahedral element in finite element anlysis.\r\n",
    "    This matrix is the inverse of the stiffness matrix (K) in FEM and is useful \r\n",
    "    for translating displacement values into force or stress tensors.\r\n",
    "    \"\"\"\r\n",
    "    def __init__(self, E: float, v: float):\r\n",
    "        # Young's Modulus\r\n",
    "        self.E = E\r\n",
    "\r\n",
    "        # Poisson's Ratio\r\n",
    "        self.v = v\r\n",
    "\r\n",
    "        # Shear modulus\r\n",
    "        self.G = E / (2 * (1 + v))\r\n",
    "\r\n",
    "        # Lame's Parameters\r\n",
    "        # https://en.wikipedia.org/wiki/Lam%C3%A9_parameters\r\n",
    "        # Conversion table here ^\r\n",
    "        self.lambda_ = (self.E * self.v) / ((1 + self.v) * (1 - 2 * self.v))\r\n",
    "\r\n",
    "        self.mu = self.G\r\n",
    "\r\n",
    "    def  __call__(self, stress_tensor: np.array):\r\n",
    "        self.consitutuve_matrix = np.identity(6)\r\n",
    "        self.consitutuve_matrix[0] = [1, -self.v, -self.v, 0, 0, 0]\r\n",
    "        self.consitutuve_matrix[1] = [0, 1, -self.v, 0, 0, 0]\r\n",
    "        self.consitutuve_matrix[3][3] = 2 * (self.v + 1)\r\n",
    "        self.consitutuve_matrix[4][4] = 2 * (self.v + 1)\r\n",
    "        self.consitutuve_matrix[5][5] = 2 * (self.v + 1)\r\n",
    "        return (1 / self.E) * self.consitutuve_matrix * stress_tensor\r\n",
    "\r\n",
    "    @property\r\n",
    "    def params(self):\r\n",
    "        \"\"\"Returns the compliance matrix params\r\n",
    "\r\n",
    "        Returns:\r\n",
    "            Tuple[int, int, int] E, v, G\r\n",
    "        \"\"\"\r\n",
    "        return (self.E, self.v, self.G)\r\n",
    "\r\n",
    "\r\n",
    "\r\n",
    "compliance_matrix_solver = IsotropicLinearComplianceMatrix(10000, 0.3)\r\n",
    "compliance_matrix_solver(np.array([1, 2, 3, 4, 5, 6]))\r\n"
   ]
  },
  {
   "cell_type": "code",
   "execution_count": 3,
   "metadata": {},
   "outputs": [],
   "source": [
    "class IsotropicMeshInputSetGenerator(object):\n",
    "    def __init__(self, voxel_grid: IsotropicVoxelGrid):\n",
    "        self.voxel_grid = voxel_grid"
   ]
  },
  {
   "cell_type": "code",
   "execution_count": 4,
   "metadata": {},
   "outputs": [
    {
     "data": {
      "text/plain": [
       "array([1., 1., 1., 1., 1., 1., 1., 1., 1., 1., 1., 1., 1., 1., 1., 1., 1.,\n",
       "       1., 1., 1., 1., 1., 1., 1., 1., 1., 1., 1., 1., 1., 1., 1., 1., 1.,\n",
       "       1., 1., 1., 1., 1., 1., 1., 1., 1., 1., 1., 1., 1., 1., 1., 1.])"
      ]
     },
     "execution_count": 4,
     "metadata": {},
     "output_type": "execute_result"
    }
   ],
   "source": [
    "isotropic_solver.grid[0][0]"
   ]
  },
  {
   "cell_type": "code",
   "execution_count": null,
   "metadata": {},
   "outputs": [],
   "source": []
  }
 ],
 "metadata": {
  "interpreter": {
   "hash": "a707b6ce8c685eb936424fcc3009d4b4b7a52543c4db09380a3fc49186ceb509"
  },
  "kernelspec": {
   "display_name": "Python 3.8.8 64-bit ('base': conda)",
   "name": "python3"
  },
  "language_info": {
   "codemirror_mode": {
    "name": "ipython",
    "version": 3
   },
   "file_extension": ".py",
   "mimetype": "text/x-python",
   "name": "python",
   "nbconvert_exporter": "python",
   "pygments_lexer": "ipython3",
   "version": "3.8.8"
  }
 },
 "nbformat": 4,
 "nbformat_minor": 5
}