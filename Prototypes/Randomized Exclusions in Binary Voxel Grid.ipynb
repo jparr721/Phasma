{
 "cells": [
  {
   "cell_type": "code",
   "execution_count": 10,
   "id": "540f4835",
   "metadata": {},
   "outputs": [
    {
     "data": {
      "text/plain": [
       "<matplotlib.image.AxesImage at 0x20a594fd460>"
      ]
     },
     "execution_count": 10,
     "metadata": {},
     "output_type": "execute_result"
    },
    {
     "data": {
      "image/png": "[encoded data removed]",
      "text/plain": [
       "<Figure size 432x288 with 1 Axes>"
      ]
     },
     "metadata": {
      "needs_background": "light"
     },
     "output_type": "display_data"
    }
   ],
   "source": [
    "import numpy as np\n",
    "import random\n",
    "import matplotlib.pyplot as plt\n",
    "from typing import Tuple, Set, List\n",
    "from enum import Enum\n",
    "from itertools import permutations, combinations_with_replacement\n",
    "import math\n",
    "\n",
    "class RandomExclusionSet(object):\n",
    "    def __init__(self, n_voids, size, depth, rows):\n",
    "        self.n_voids = n_voids\n",
    "        self.size = size\n",
    "        self.depth = depth\n",
    "        self.rows = rows\n",
    "        self.cols = self.n_voids // self.rows\n",
    "        \n",
    "    def __len__(self):\n",
    "        return self.n_voids * self.size\n",
    "        \n",
    "class IsotropicVoxelGrid(object):\n",
    "    def __init__(\n",
    "        self, \n",
    "        dataset_size: int, \n",
    "    ):\n",
    "        self.grid = np.ones((dataset_size, dataset_size, dataset_size))\n",
    "        \n",
    "    def __call__(self, exclusions: RandomExclusionSet):           \n",
    "            # Evenly subdivide along y-axis\n",
    "            y_axis_origins = np.linspace(\n",
    "                exclusions.size + 1, \n",
    "                self.grid.shape[0]-(exclusions.size + 1), \n",
    "                num=exclusions.rows\n",
    "            ) if exclusions.rows > 1 else [math.ceil(self.grid.shape[0] / 2)]\n",
    "            \n",
    "            centroids = []\n",
    "            for row in range(exclusions.rows):\n",
    "                x_axis_layout = np.linspace(\n",
    "                    exclusions.size + 1, \n",
    "                    self.grid.shape[0] - (exclusions.size + 1), \n",
    "                    num=exclusions.cols\n",
    "                )\n",
    "                y_axis_val = y_axis_origins[row]\n",
    "                \n",
    "                for x_axis_val in x_axis_layout:\n",
    "                    centroids.append((int(x_axis_val), int(y_axis_val)))\n",
    "            indices = []\n",
    "            for centroid in centroids:\n",
    "                indices.extend(self._construct_cube_indices(centroid, exclusions.size))\n",
    "                \n",
    "            self._set_shape_from_indices(indices)\n",
    "    \n",
    "    def _set_shape_from_indices(self, indices: List[Tuple[int, int, int]]):\n",
    "        for z in range(self.grid.shape[0]):\n",
    "            for index in indices:\n",
    "                self.grid[z][index[0]][index[1]] = 0\n",
    "    \n",
    "    def _construct_cube_indices(self, centroid: Tuple[int, int], size: int):\n",
    "        indices = []\n",
    "        \n",
    "        # Top-Half\n",
    "        cur_x = centroid[0]\n",
    "        cur_y = centroid[1]\n",
    "        for x in range(size):\n",
    "            for y in range(size):\n",
    "                indices.append((cur_x + x, cur_y + y))\n",
    "                \n",
    "        cur_x = centroid[0]\n",
    "        cur_y = centroid[1]\n",
    "        for x in range(size):\n",
    "            for y in range(size):\n",
    "                indices.append((cur_x - x, cur_y - y))\n",
    "                \n",
    "        cur_x = centroid[0]\n",
    "        cur_y = centroid[1]\n",
    "        for x in range(size):\n",
    "            for y in range(size):\n",
    "                indices.append((cur_x - x, cur_y + y))\n",
    "                \n",
    "        cur_x = centroid[0]\n",
    "        cur_y = centroid[1]\n",
    "        for x in range(size):\n",
    "            for y in range(size):\n",
    "                indices.append((cur_x + x, cur_y - y))\n",
    "                \n",
    "        indices = list(set(indices))\n",
    "        return indices\n",
    "    \n",
    "    def _construct_circle_indices(centroid: Tuple[int, int], size: int):\n",
    "        raise NotImplemented\n",
    "\n",
    "isotropic_solver = IsotropicVoxelGrid(50)\n",
    "isotropic_solver(RandomExclusionSet(9, 5, 1, 3))\n",
    "plt.imshow(isotropic_solver.grid[0], cmap='hot', interpolation='nearest')\n"
   ]
  },
  {
   "cell_type": "code",
   "execution_count": 11,
   "id": "6297c50c",
   "metadata": {},
   "outputs": [
    {
     "data": {
      "text/plain": [
       "<matplotlib.image.AxesImage at 0x20a59533670>"
      ]
     },
     "execution_count": 11,
     "metadata": {},
     "output_type": "execute_result"
    },
    {
     "data": {
      "image/png": "[encoded data removed]",
      "text/plain": [
       "<Figure size 432x288 with 1 Axes>"
      ]
     },
     "metadata": {
      "needs_background": "light"
     },
     "output_type": "display_data"
    }
   ],
   "source": [
    "plt.imshow(isotropic_solver.grid[19], cmap='hot', interpolation='nearest')"
   ]
  },
  {
   "cell_type": "code",
   "execution_count": 4,
   "id": "05b287f7",
   "metadata": {},
   "outputs": [
    {
     "data": {
      "text/plain": [
       "float"
      ]
     },
     "execution_count": 4,
     "metadata": {},
     "output_type": "execute_result"
    }
   ],
   "source": []
  },
  {
   "cell_type": "code",
   "execution_count": null,
   "id": "8e52e99a",
   "metadata": {},
   "outputs": [],
   "source": []
  }
 ],
 "metadata": {
  "kernelspec": {
   "display_name": "Python 3",
   "language": "python",
   "name": "python3"
  },
  "language_info": {
   "codemirror_mode": {
    "name": "ipython",
    "version": 3
   },
   "file_extension": ".py",
   "mimetype": "text/x-python",
   "name": "python",
   "nbconvert_exporter": "python",
   "pygments_lexer": "ipython3",
   "version": "3.8.8"
  }
 },
 "nbformat": 4,
 "nbformat_minor": 5
}
