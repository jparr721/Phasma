{
 "cells": [
  {
   "cell_type": "code",
   "execution_count": 1,
   "id": "e22fef9f",
   "metadata": {},
   "outputs": [],
   "source": [
    "import numpy as np\n",
    "from numpy.linalg import inv\n",
    "import matplotlib.pyplot as plt\n",
    "import pandas as pd"
   ]
  },
  {
   "cell_type": "code",
   "execution_count": 2,
   "id": "8d4b9b37",
   "metadata": {},
   "outputs": [],
   "source": [
    "class CentralDifference:\n",
    "    def __init__(self, dt, init_disp, init_R, k, m):\n",
    "        self.dt = dt\n",
    "        self.init_disp = init_disp\n",
    "        self.k = k\n",
    "        self.m = m\n",
    "        \n",
    "        self.velocity = np.zeros(init_disp.shape)\n",
    "        self.accel = np.matmul(init_R, inv(self.m))\n",
    "        \n",
    "        self.a0 = 1 / dt ** 2\n",
    "        self.a1 = 1 / 2 * dt\n",
    "        self.a2 = 2 * self.a0\n",
    "        self.a3 = 1 / self.a2\n",
    "        \n",
    "        self.em = inv(self.a0 * m)\n",
    "        \n",
    "        self._get_last(init_disp)\n",
    "        \n",
    "    def solve(self, U, R):\n",
    "        el = R - np.matmul((self.k - self.a2 * self.m), U) - np.matmul(self.a0 * self.m, self.last_pos)\n",
    "        nU = np.matmul(self.em, el)\n",
    "        self.accel = self.a0 * (self.last_pos - 2 * U + nU)\n",
    "        self.velocity = self.a1 * ((-1 * self.last_pos) + nU)\n",
    "        self.last_pos = U\n",
    "        return nU\n",
    "    \n",
    "    def _get_last(self, pos):\n",
    "        self.last_pos = pos - self.dt * self.velocity + self.a3 * self.accel\n",
    "        "
   ]
  },
  {
   "cell_type": "code",
   "execution_count": 3,
   "id": "633cb488",
   "metadata": {},
   "outputs": [],
   "source": [
    "raw = np.array([\n",
    "     3.54627e+08, 4.20673e+06, 8.41346e+06,-2.35577e+08, 5.04808e+06, 1.00962e+07,     -168269, 3.36538e+06,           0,-1.17536e+08,-1.26202e+07, 1.68269e+06,     -673077,           0, 6.73077e+06,-1.18041e+08,      841346,-2.52404e+07, 1.17368e+08,     -841346,-1.68269e+06,           0,           0,           0,\n",
    " 4.20673e+06, 1.02855e+08,      420673, 3.36538e+06,-6.73077e+07,           0, 5.04808e+06,     -588942,      504808,-1.26202e+07,-3.36118e+07,     84134.6,           0,     -673077,      336538,     -841346,-3.36959e+07,    -84134.6,      841346, 3.30228e+07,-1.26202e+06,           0,           0,           0,\n",
    " 8.41346e+06,      420673, 1.04748e+08, 6.73077e+06,           0,-6.73077e+07,           0,      336538,     -168269,-1.68269e+06,    -84134.6,-3.25601e+07, 1.00962e+07,      504808,-2.35577e+06,-2.52404e+07,     84134.6,-3.47476e+07, 1.68269e+06,-1.26202e+06, 3.23918e+07,           0,           0,           0,\n",
    "-2.35577e+08, 3.36538e+06, 6.73077e+06, 2.36418e+08,-8.41346e+06,-1.68269e+07,           0,           0,           0,     -168269, 5.04808e+06,           0,           0,           0,           0,     -673077,           0, 1.00962e+07,           0,           0,           0,           0,           0,           0,\n",
    " 5.04808e+06,-6.73077e+07,           0,-8.41346e+06, 6.85697e+07,      841346,           0,           0,           0, 3.36538e+06,     -588942,     -336538,           0,           0,           0,           0,     -673077,     -504808,           0,           0,           0,           0,           0,           0,\n",
    " 1.00962e+07,           0,-6.73077e+07,-1.68269e+07,      841346, 6.98317e+07,           0,           0,           0,           0,     -504808,     -168269,           0,           0,           0, 6.73077e+06,     -336538,-2.35577e+06,           0,           0,           0,           0,           0,           0,\n",
    "     -168269, 5.04808e+06,           0,           0,           0,           0, 2.36418e+08,-8.41346e+06, 1.68269e+07,-2.35577e+08, 3.36538e+06,-6.73077e+06,           0,           0,           0,           0,           0,           0,     -673077,           0,-1.00962e+07,           0,           0,           0,\n",
    " 3.36538e+06,     -588942,      336538,           0,           0,           0,-8.41346e+06, 6.85697e+07,     -841346, 5.04808e+06,-6.73077e+07,           0,           0,           0,           0,           0,           0,           0,           0,     -673077,      504808,           0,           0,           0,\n",
    "           0,      504808,     -168269,           0,           0,           0, 1.68269e+07,     -841346, 6.98317e+07,-1.00962e+07,           0,-6.73077e+07,           0,           0,           0,           0,           0,           0,-6.73077e+06,      336538,-2.35577e+06,           0,           0,           0,\n",
    "-1.17536e+08,-1.26202e+07,-1.68269e+06,     -168269, 3.36538e+06,           0,-2.35577e+08, 5.04808e+06,-1.00962e+07, 3.54627e+08, 4.20673e+06,-8.41346e+06,           0,           0,           0, 1.17368e+08,     -841346, 1.68269e+06,-1.18041e+08,      841346, 2.52404e+07,     -673077,           0,-6.73077e+06,\n",
    "-1.26202e+07,-3.36118e+07,    -84134.6, 5.04808e+06,     -588942,     -504808, 3.36538e+06,-6.73077e+07,           0, 4.20673e+06, 1.02855e+08,     -420673,           0,           0,           0,      841346, 3.30228e+07, 1.26202e+06,     -841346,-3.36959e+07,     84134.6,           0,     -673077,     -336538,\n",
    " 1.68269e+06,     84134.6,-3.25601e+07,           0,     -336538,     -168269,-6.73077e+06,           0,-6.73077e+07,-8.41346e+06,     -420673, 1.04748e+08,           0,           0,           0,-1.68269e+06, 1.26202e+06, 3.23918e+07, 2.52404e+07,    -84134.6,-3.47476e+07,-1.00962e+07,     -504808,-2.35577e+06,\n",
    "     -673077,           0, 1.00962e+07,           0,           0,           0,           0,           0,           0,           0,           0,           0, 2.36418e+08, 8.41346e+06,-1.68269e+07,-2.35577e+08,-3.36538e+06, 6.73077e+06,     -168269,-5.04808e+06,           0,           0,           0,           0,\n",
    "           0,     -673077,      504808,           0,           0,           0,           0,           0,           0,           0,           0,           0, 8.41346e+06, 6.85697e+07,     -841346,-5.04808e+06,-6.73077e+07,           0,-3.36538e+06,     -588942,      336538,           0,           0,           0,\n",
    " 6.73077e+06,      336538,-2.35577e+06,           0,           0,           0,           0,           0,           0,           0,           0,           0,-1.68269e+07,     -841346, 6.98317e+07, 1.00962e+07,           0,-6.73077e+07,           0,      504808,     -168269,           0,           0,           0,\n",
    "-1.18041e+08,     -841346,-2.52404e+07,     -673077,           0, 6.73077e+06,           0,           0,           0, 1.17368e+08,      841346,-1.68269e+06,-2.35577e+08,-5.04808e+06, 1.00962e+07, 3.54627e+08,-4.20673e+06, 8.41346e+06,-1.17536e+08, 1.26202e+07, 1.68269e+06,     -168269,-3.36538e+06,           0,\n",
    "      841346,-3.36959e+07,     84134.6,           0,     -673077,     -336538,           0,           0,           0,     -841346, 3.30228e+07, 1.26202e+06,-3.36538e+06,-6.73077e+07,           0,-4.20673e+06, 1.02855e+08,     -420673, 1.26202e+07,-3.36118e+07,    -84134.6,-5.04808e+06,     -588942,     -504808,\n",
    "-2.52404e+07,    -84134.6,-3.47476e+07, 1.00962e+07,     -504808,-2.35577e+06,           0,           0,           0, 1.68269e+06, 1.26202e+06, 3.23918e+07, 6.73077e+06,           0,-6.73077e+07, 8.41346e+06,     -420673, 1.04748e+08,-1.68269e+06,     84134.6,-3.25601e+07,           0,     -336538,     -168269,\n",
    " 1.17368e+08,      841346, 1.68269e+06,           0,           0,           0,     -673077,           0,-6.73077e+06,-1.18041e+08,     -841346, 2.52404e+07,     -168269,-3.36538e+06,           0,-1.17536e+08, 1.26202e+07,-1.68269e+06, 3.54627e+08,-4.20673e+06,-8.41346e+06,-2.35577e+08,-5.04808e+06,-1.00962e+07,\n",
    "     -841346, 3.30228e+07,-1.26202e+06,           0,           0,           0,           0,     -673077,      336538,      841346,-3.36959e+07,    -84134.6,-5.04808e+06,     -588942,      504808, 1.26202e+07,-3.36118e+07,     84134.6,-4.20673e+06, 1.02855e+08,      420673,-3.36538e+06,-6.73077e+07,           0,\n",
    "-1.68269e+06,-1.26202e+06, 3.23918e+07,           0,           0,           0,-1.00962e+07,      504808,-2.35577e+06, 2.52404e+07,     84134.6,-3.47476e+07,           0,      336538,     -168269, 1.68269e+06,    -84134.6,-3.25601e+07,-8.41346e+06,      420673, 1.04748e+08,-6.73077e+06,           0,-6.73077e+07,\n",
    "           0,           0,           0,           0,           0,           0,           0,           0,           0,     -673077,           0,-1.00962e+07,           0,           0,           0,     -168269,-5.04808e+06,           0,-2.35577e+08,-3.36538e+06,-6.73077e+06, 2.36418e+08, 8.41346e+06, 1.68269e+07,\n",
    "           0,           0,           0,           0,           0,           0,           0,           0,           0,           0,     -673077,     -504808,           0,           0,           0,-3.36538e+06,     -588942,     -336538,-5.04808e+06,-6.73077e+07,           0, 8.41346e+06, 6.85697e+07,      841346,\n",
    "           0,           0,           0,           0,           0,           0,           0,           0,           0,-6.73077e+06,     -336538,-2.35577e+06,           0,           0,           0,           0,     -504808,     -168269,-1.00962e+07,           0,-6.73077e+07, 1.68269e+07,      841346, 6.98317e+07,\n",
    "\n",
    "])\n",
    "global_stiffness = raw.reshape(24, 24)\n",
    "\n",
    "def solve_linear_tetrahedral(U):\n",
    "    return np.matmul(global_stiffness, U)"
   ]
  },
  {
   "cell_type": "code",
   "execution_count": 4,
   "id": "135c78e4",
   "metadata": {},
   "outputs": [
    {
     "data": {
      "text/markdown": [
       "### Some Debugging...\n",
       "Currently, my code seems to grow without bound when I run the solver despite the system reaching equilibrium in the basic test below:\n"
      ],
      "text/plain": [
       "<IPython.core.display.Markdown object>"
      ]
     },
     "metadata": {},
     "output_type": "display_data"
    }
   ],
   "source": [
    "%%markdown\n",
    "### Some Debugging...\n",
    "Currently, my code seems to grow without bound when I run the solver despite the system reaching equilibrium in the basic test below:"
   ]
  },
  {
   "cell_type": "code",
   "execution_count": 5,
   "id": "feb43fa0",
   "metadata": {},
   "outputs": [
    {
     "data": {
      "image/png": "[encoded data removed]",
      "text/plain": [
       "<Figure size 432x288 with 1 Axes>"
      ]
     },
     "metadata": {
      "needs_background": "light"
     },
     "output_type": "display_data"
    }
   ],
   "source": [
    "init_disp = np.array([0, 0])\n",
    "init_R = np.array([0, 10])\n",
    "k = np.array([[6, -2], [-2, 4]])\n",
    "m = np.array([[2, 0], [0, 1]])\n",
    "cd = CentralDifference(0.28, init_disp, init_R, k, m)\n",
    "\n",
    "U = np.array([0, 0])\n",
    "R = np.array([0, 10])\n",
    "results = []\n",
    "n = 50\n",
    "for i in range(n):\n",
    "    U = cd.solve(U, R)\n",
    "    results.append(U)\n",
    "    \n",
    "x = [i for i in range(n)]\n",
    "    \n",
    "results = np.array(results)\n",
    "plt.scatter(x, results[:, 0])\n",
    "plt.scatter(x, results[:, 1])\n",
    "plt.show()"
   ]
  },
  {
   "cell_type": "code",
   "execution_count": 6,
   "id": "ea0e69e0",
   "metadata": {},
   "outputs": [
    {
     "data": {
      "text/markdown": [
       "### Now\n",
       "I intend to roll together the linear solver and put the book tetrahedrals from Matlab finite elements and see if we get a similar wavy result.\n"
      ],
      "text/plain": [
       "<IPython.core.display.Markdown object>"
      ]
     },
     "metadata": {},
     "output_type": "display_data"
    }
   ],
   "source": [
    "%%markdown\n",
    "### Now\n",
    "I intend to roll together the linear solver and put the book tetrahedrals from Matlab finite elements and see if we get a similar wavy result."
   ]
  },
  {
   "cell_type": "code",
   "execution_count": 7,
   "id": "c60e59e3",
   "metadata": {},
   "outputs": [
    {
     "data": {
      "text/plain": [
       "array([-3.13293993e+01, -5.34920138e+00, -9.32854007e+00,  3.07042068e+01,\n",
       "       -4.02575651e+00, -3.07762342e+00, -9.10055990e-05,  3.12502589e+00,\n",
       "       -2.30171200e-06,  1.93119728e-04,  6.25212990e+00,  1.50151556e-05,\n",
       "       -3.07042607e+01, -4.02583297e+00,  3.07763010e+00,  3.13295103e+01,\n",
       "       -5.34973999e+00,  9.32853158e+00, -2.37272126e-04,  6.25335396e+00,\n",
       "       -9.29840320e-06,  7.79416880e-05,  3.12442418e+00, -1.60315700e-06])"
      ]
     },
     "execution_count": 7,
     "metadata": {},
     "output_type": "execute_result"
    }
   ],
   "source": [
    "U = np.zeros(24)\n",
    "R = np.zeros(24)\n",
    "m = np.identity(24)\n",
    "cd = CentralDifference(1e-4, U, R, global_stiffness, m)\n",
    "U = np.array([0,\n",
    "           0,\n",
    "           0,\n",
    "           0,\n",
    "           0,\n",
    "           0,\n",
    "-3.49318e-09,\n",
    " 6.08193e-06,\n",
    " 9.03333e-08,\n",
    "-1.27004e-07,\n",
    " 6.07812e-06,\n",
    " 5.55053e-08,\n",
    "           0,\n",
    "           0,\n",
    "           0,\n",
    "           0,\n",
    "           0,\n",
    "           0,\n",
    " 1.27024e-07,\n",
    " 6.07813e-06,\n",
    " -5.5515e-08,\n",
    " 3.51326e-09,\n",
    " 6.08193e-06,\n",
    "-9.03431e-08,\n",
    "])\n",
    "\n",
    "R = solve_linear_tetrahedral(U)\n",
    "R"
   ]
  },
  {
   "cell_type": "code",
   "execution_count": 8,
   "id": "fe44a9b6",
   "metadata": {},
   "outputs": [
    {
     "data": {
      "text/markdown": [
       "### Success! Sorta...\n",
       "We have proven that we can reproduce the results from the matlab book, now we can run our solver for a few rounds and see what we get...\n"
      ],
      "text/plain": [
       "<IPython.core.display.Markdown object>"
      ]
     },
     "metadata": {},
     "output_type": "display_data"
    }
   ],
   "source": [
    "%%markdown\n",
    "### Success! Sorta...\n",
    "We have proven that we can reproduce the results from the matlab book, now we can run our solver for a few rounds and see what we get..."
   ]
  },
  {
   "cell_type": "code",
   "execution_count": 17,
   "id": "3c6a5a89",
   "metadata": {},
   "outputs": [
    {
     "name": "stdout",
     "output_type": "stream",
     "text": [
      "[[ 0.0000000e+00  0.0000000e+00  0.0000000e+00  0.0000000e+00\n",
      "   0.0000000e+00  0.0000000e+00 -2.8644076e-07  4.9871826e-04\n",
      "   7.4073306e-06 -1.0414328e-05  4.9840584e-04  4.5514346e-06\n",
      "   0.0000000e+00  0.0000000e+00  0.0000000e+00  0.0000000e+00\n",
      "   0.0000000e+00  0.0000000e+00  1.0415968e-05  4.9840666e-04\n",
      "  -4.5522300e-06  2.8808732e-07  4.9871826e-04 -7.4081342e-06]\n",
      " [ 0.0000000e+00  0.0000000e+00  0.0000000e+00  0.0000000e+00\n",
      "   0.0000000e+00  0.0000000e+00 -2.8993394e-07  5.0480019e-04\n",
      "   7.4976639e-06 -1.0541332e-05  5.0448396e-04  4.6069399e-06\n",
      "   0.0000000e+00  0.0000000e+00  0.0000000e+00  0.0000000e+00\n",
      "   0.0000000e+00  0.0000000e+00  1.0542992e-05  5.0448479e-04\n",
      "  -4.6077450e-06  2.9160058e-07  5.0480019e-04 -7.4984773e-06]\n",
      " [ 0.0000000e+00  0.0000000e+00  0.0000000e+00  0.0000000e+00\n",
      "   0.0000000e+00  0.0000000e+00 -2.9342712e-07  5.1088212e-04\n",
      "   7.5879972e-06 -1.0668336e-05  5.1056208e-04  4.6624452e-06\n",
      "   0.0000000e+00  0.0000000e+00  0.0000000e+00  0.0000000e+00\n",
      "   0.0000000e+00  0.0000000e+00  1.0670016e-05  5.1056292e-04\n",
      "  -4.6632600e-06  2.9511384e-07  5.1088212e-04 -7.5888204e-06]\n",
      " [ 0.0000000e+00  0.0000000e+00  0.0000000e+00  0.0000000e+00\n",
      "   0.0000000e+00  0.0000000e+00 -2.9692030e-07  5.1696405e-04\n",
      "   7.6783305e-06 -1.0795340e-05  5.1664020e-04  4.7179505e-06\n",
      "   0.0000000e+00  0.0000000e+00  0.0000000e+00  0.0000000e+00\n",
      "   0.0000000e+00  0.0000000e+00  1.0797040e-05  5.1664105e-04\n",
      "  -4.7187750e-06  2.9862710e-07  5.1696405e-04 -7.6791635e-06]\n",
      " [ 0.0000000e+00  0.0000000e+00  0.0000000e+00  0.0000000e+00\n",
      "   0.0000000e+00  0.0000000e+00 -3.0041348e-07  5.2304598e-04\n",
      "   7.7686638e-06 -1.0922344e-05  5.2271832e-04  4.7734558e-06\n",
      "   0.0000000e+00  0.0000000e+00  0.0000000e+00  0.0000000e+00\n",
      "   0.0000000e+00  0.0000000e+00  1.0924064e-05  5.2271918e-04\n",
      "  -4.7742900e-06  3.0214036e-07  5.2304598e-04 -7.7695066e-06]\n",
      " [ 0.0000000e+00  0.0000000e+00  0.0000000e+00  0.0000000e+00\n",
      "   0.0000000e+00  0.0000000e+00 -3.0390666e-07  5.2912791e-04\n",
      "   7.8589971e-06 -1.1049348e-05  5.2879644e-04  4.8289611e-06\n",
      "   0.0000000e+00  0.0000000e+00  0.0000000e+00  0.0000000e+00\n",
      "   0.0000000e+00  0.0000000e+00  1.1051088e-05  5.2879731e-04\n",
      "  -4.8298050e-06  3.0565362e-07  5.2912791e-04 -7.8598497e-06]\n",
      " [ 0.0000000e+00  0.0000000e+00  0.0000000e+00  0.0000000e+00\n",
      "   0.0000000e+00  0.0000000e+00 -3.0739984e-07  5.3520984e-04\n",
      "   7.9493304e-06 -1.1176352e-05  5.3487456e-04  4.8844664e-06\n",
      "   0.0000000e+00  0.0000000e+00  0.0000000e+00  0.0000000e+00\n",
      "   0.0000000e+00  0.0000000e+00  1.1178112e-05  5.3487544e-04\n",
      "  -4.8853200e-06  3.0916688e-07  5.3520984e-04 -7.9501928e-06]\n",
      " [ 0.0000000e+00  0.0000000e+00  0.0000000e+00  0.0000000e+00\n",
      "   0.0000000e+00  0.0000000e+00 -3.1089302e-07  5.4129177e-04\n",
      "   8.0396637e-06 -1.1303356e-05  5.4095268e-04  4.9399717e-06\n",
      "   0.0000000e+00  0.0000000e+00  0.0000000e+00  0.0000000e+00\n",
      "   0.0000000e+00  0.0000000e+00  1.1305136e-05  5.4095357e-04\n",
      "  -4.9408350e-06  3.1268014e-07  5.4129177e-04 -8.0405359e-06]\n",
      " [ 0.0000000e+00  0.0000000e+00  0.0000000e+00  0.0000000e+00\n",
      "   0.0000000e+00  0.0000000e+00 -3.1438620e-07  5.4737370e-04\n",
      "   8.1299970e-06 -1.1430360e-05  5.4703080e-04  4.9954770e-06\n",
      "   0.0000000e+00  0.0000000e+00  0.0000000e+00  0.0000000e+00\n",
      "   0.0000000e+00  0.0000000e+00  1.1432160e-05  5.4703170e-04\n",
      "  -4.9963500e-06  3.1619340e-07  5.4737370e-04 -8.1308790e-06]\n",
      " [ 0.0000000e+00  0.0000000e+00  0.0000000e+00  0.0000000e+00\n",
      "   0.0000000e+00  0.0000000e+00 -3.1787938e-07  5.5345563e-04\n",
      "   8.2203303e-06 -1.1557364e-05  5.5310892e-04  5.0509823e-06\n",
      "   0.0000000e+00  0.0000000e+00  0.0000000e+00  0.0000000e+00\n",
      "   0.0000000e+00  0.0000000e+00  1.1559184e-05  5.5310983e-04\n",
      "  -5.0518650e-06  3.1970666e-07  5.5345563e-04 -8.2212221e-06]\n",
      " [ 0.0000000e+00  0.0000000e+00  0.0000000e+00  0.0000000e+00\n",
      "   0.0000000e+00  0.0000000e+00 -3.2137256e-07  5.5953756e-04\n",
      "   8.3106636e-06 -1.1684368e-05  5.5918704e-04  5.1064876e-06\n",
      "   0.0000000e+00  0.0000000e+00  0.0000000e+00  0.0000000e+00\n",
      "   0.0000000e+00  0.0000000e+00  1.1686208e-05  5.5918796e-04\n",
      "  -5.1073800e-06  3.2321992e-07  5.5953756e-04 -8.3115652e-06]\n",
      " [ 0.0000000e+00  0.0000000e+00  0.0000000e+00  0.0000000e+00\n",
      "   0.0000000e+00  0.0000000e+00 -3.2486574e-07  5.6561949e-04\n",
      "   8.4009969e-06 -1.1811372e-05  5.6526516e-04  5.1619929e-06\n",
      "   0.0000000e+00  0.0000000e+00  0.0000000e+00  0.0000000e+00\n",
      "   0.0000000e+00  0.0000000e+00  1.1813232e-05  5.6526609e-04\n",
      "  -5.1628950e-06  3.2673318e-07  5.6561949e-04 -8.4019083e-06]\n",
      " [ 0.0000000e+00  0.0000000e+00  0.0000000e+00  0.0000000e+00\n",
      "   0.0000000e+00  0.0000000e+00 -3.2835892e-07  5.7170142e-04\n",
      "   8.4913302e-06 -1.1938376e-05  5.7134328e-04  5.2174982e-06\n",
      "   0.0000000e+00  0.0000000e+00  0.0000000e+00  0.0000000e+00\n",
      "   0.0000000e+00  0.0000000e+00  1.1940256e-05  5.7134422e-04\n",
      "  -5.2184100e-06  3.3024644e-07  5.7170142e-04 -8.4922514e-06]\n",
      " [ 0.0000000e+00  0.0000000e+00  0.0000000e+00  0.0000000e+00\n",
      "   0.0000000e+00  0.0000000e+00 -3.3185210e-07  5.7778335e-04\n",
      "   8.5816635e-06 -1.2065380e-05  5.7742140e-04  5.2730035e-06\n",
      "   0.0000000e+00  0.0000000e+00  0.0000000e+00  0.0000000e+00\n",
      "   0.0000000e+00  0.0000000e+00  1.2067280e-05  5.7742235e-04\n",
      "  -5.2739250e-06  3.3375970e-07  5.7778335e-04 -8.5825945e-06]\n",
      " [ 0.0000000e+00  0.0000000e+00  0.0000000e+00  0.0000000e+00\n",
      "   0.0000000e+00  0.0000000e+00 -3.3534528e-07  5.8386528e-04\n",
      "   8.6719968e-06 -1.2192384e-05  5.8349952e-04  5.3285088e-06\n",
      "   0.0000000e+00  0.0000000e+00  0.0000000e+00  0.0000000e+00\n",
      "   0.0000000e+00  0.0000000e+00  1.2194304e-05  5.8350048e-04\n",
      "  -5.3294400e-06  3.3727296e-07  5.8386528e-04 -8.6729376e-06]\n",
      " [ 0.0000000e+00  0.0000000e+00  0.0000000e+00  0.0000000e+00\n",
      "   0.0000000e+00  0.0000000e+00 -3.3883846e-07  5.8994721e-04\n",
      "   8.7623301e-06 -1.2319388e-05  5.8957764e-04  5.3840141e-06\n",
      "   0.0000000e+00  0.0000000e+00  0.0000000e+00  0.0000000e+00\n",
      "   0.0000000e+00  0.0000000e+00  1.2321328e-05  5.8957861e-04\n",
      "  -5.3849550e-06  3.4078622e-07  5.8994721e-04 -8.7632807e-06]\n",
      " [ 0.0000000e+00  0.0000000e+00  0.0000000e+00  0.0000000e+00\n",
      "   0.0000000e+00  0.0000000e+00 -3.4233164e-07  5.9602914e-04\n",
      "   8.8526634e-06 -1.2446392e-05  5.9565576e-04  5.4395194e-06\n",
      "   0.0000000e+00  0.0000000e+00  0.0000000e+00  0.0000000e+00\n",
      "   0.0000000e+00  0.0000000e+00  1.2448352e-05  5.9565674e-04\n",
      "  -5.4404700e-06  3.4429948e-07  5.9602914e-04 -8.8536238e-06]\n",
      " [ 0.0000000e+00  0.0000000e+00  0.0000000e+00  0.0000000e+00\n",
      "   0.0000000e+00  0.0000000e+00 -3.4582482e-07  6.0211107e-04\n",
      "   8.9429967e-06 -1.2573396e-05  6.0173388e-04  5.4950247e-06\n",
      "   0.0000000e+00  0.0000000e+00  0.0000000e+00  0.0000000e+00\n",
      "   0.0000000e+00  0.0000000e+00  1.2575376e-05  6.0173487e-04\n",
      "  -5.4959850e-06  3.4781274e-07  6.0211107e-04 -8.9439669e-06]\n",
      " [ 0.0000000e+00  0.0000000e+00  0.0000000e+00  0.0000000e+00\n",
      "   0.0000000e+00  0.0000000e+00 -3.4931800e-07  6.0819300e-04\n",
      "   9.0333300e-06 -1.2700400e-05  6.0781200e-04  5.5505300e-06\n",
      "   0.0000000e+00  0.0000000e+00  0.0000000e+00  0.0000000e+00\n",
      "   0.0000000e+00  0.0000000e+00  1.2702400e-05  6.0781300e-04\n",
      "  -5.5515000e-06  3.5132600e-07  6.0819300e-04 -9.0343100e-06]\n",
      " [ 0.0000000e+00  0.0000000e+00  0.0000000e+00  0.0000000e+00\n",
      "   0.0000000e+00  0.0000000e+00 -3.5281118e-07  6.1427493e-04\n",
      "   9.1236633e-06 -1.2827404e-05  6.1389012e-04  5.6060353e-06\n",
      "   0.0000000e+00  0.0000000e+00  0.0000000e+00  0.0000000e+00\n",
      "   0.0000000e+00  0.0000000e+00  1.2829424e-05  6.1389113e-04\n",
      "  -5.6070150e-06  3.5483926e-07  6.1427493e-04 -9.1246531e-06]]\n"
     ]
    },
    {
     "data": {
      "image/png": "[encoded data removed]",
      "text/plain": [
       "<Figure size 432x288 with 1 Axes>"
      ]
     },
     "metadata": {
      "needs_background": "light"
     },
     "output_type": "display_data"
    }
   ],
   "source": [
    "results = []\n",
    "n = 20\n",
    "for i in range(n):\n",
    "    U = cd.solve(U, R)\n",
    "    R = solve_linear_tetrahedral(U)\n",
    "    results.append(U)\n",
    "    \n",
    "x = [i for i in range(n)]\n",
    "    \n",
    "results = np.array(results)\n",
    "m = results.max(axis=1)\n",
    "for i in range(results.shape[1]):\n",
    "    plt.scatter(x, results[:, i])\n",
    "plt.show()"
   ]
  },
  {
   "cell_type": "code",
   "execution_count": null,
   "id": "fcee37f6",
   "metadata": {},
   "outputs": [],
   "source": []
  }
 ],
 "metadata": {
  "kernelspec": {
   "display_name": "Python 3",
   "language": "python",
   "name": "python3"
  },
  "language_info": {
   "codemirror_mode": {
    "name": "ipython",
    "version": 3
   },
   "file_extension": ".py",
   "mimetype": "text/x-python",
   "name": "python",
   "nbconvert_exporter": "python",
   "pygments_lexer": "ipython3",
   "version": "3.8.8"
  }
 },
 "nbformat": 4,
 "nbformat_minor": 5
}
