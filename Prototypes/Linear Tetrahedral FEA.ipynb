{
 "cells": [
  {
   "cell_type": "code",
   "execution_count": 12,
   "id": "e22fef9f",
   "metadata": {},
   "outputs": [],
   "source": [
    "import numpy as np\n",
    "from numpy.linalg import inv"
   ]
  },
  {
   "cell_type": "code",
   "execution_count": 41,
   "id": "8d4b9b37",
   "metadata": {},
   "outputs": [],
   "source": [
    "class CentralDifference:\n",
    "    def __init__(self, dt, init_disp, init_R, k, m):\n",
    "        self.dt = dt\n",
    "        self.init_disp = init_disp\n",
    "        self.k = k\n",
    "        self.m = m\n",
    "        \n",
    "        self.velocity = np.zeros(init_disp.shape)\n",
    "        self.accel = np.matmul(init_R, inv(self.m))\n",
    "        \n",
    "        self.a0 = 1 / dt ** 2\n",
    "        self.a1 = 1 / 2 * dt\n",
    "        self.a2 = 2 * self.a0\n",
    "        self.a3 = 1 / self.a2\n",
    "        \n",
    "        self.em = inv(self.a0 * m)\n",
    "        \n",
    "        self._get_last(init_disp)\n",
    "        \n",
    "    def solve(self, U, R):\n",
    "        el = R - np.matmul((self.k - self.a2 * self.m), U) - np.matmul(self.a0 * self.m, self.last_pos)\n",
    "        nU = np.matmul(self.em, el)\n",
    "        self.accel = self.a0 * (self.last_pos - 2 * U + nU)\n",
    "        self.velocity = self.a1 * ((-1 * self.last_pos) + nU)\n",
    "        self.last_pos = U\n",
    "        return nU\n",
    "    \n",
    "    def _get_last(self, pos):\n",
    "        self.last_pos = pos - self.dt * self.velocity + self.a3 * self.accel\n",
    "        "
   ]
  },
  {
   "cell_type": "code",
   "execution_count": null,
   "id": "633cb488",
   "metadata": {},
   "outputs": [],
   "source": [
    "class LinearTetrahedral:\n",
    "    def __init__(self)"
   ]
  },
  {
   "cell_type": "code",
   "execution_count": 45,
   "id": "feb43fa0",
   "metadata": {},
   "outputs": [
    {
     "name": "stdout",
     "output_type": "stream",
     "text": [
      "[0.    0.392]\n",
      "[0.0307328 1.4450688]\n",
      "[0.16753064 2.83378293]\n",
      "[0.48709385 4.14409153]\n",
      "[1.01698937 5.01518935]\n",
      "[1.70087983 5.25698772]\n",
      "[2.39687119 4.9008927 ]\n",
      "[2.91334844 4.16770713]\n",
      "[3.07135437 3.36834164]\n",
      "[2.77105574 2.77825258]\n",
      "[2.0368198  2.53540505]\n",
      "[1.0222996  2.60082784]\n"
     ]
    }
   ],
   "source": [
    "init_disp = np.array([0, 0])\n",
    "init_R = np.array([0, 10])\n",
    "k = np.array([[6, -2], [-2, 4]])\n",
    "m = np.array([[2, 0], [0, 1]])\n",
    "cd = CentralDifference(0.28, init_disp, init_R, k, m)\n",
    "\n",
    "U = np.array([0, 0])\n",
    "R = np.array([0, 10])\n",
    "for i in range(12):\n",
    "    U = cd.solve(U, R)\n",
    "    print(U)"
   ]
  },
  {
   "cell_type": "code",
   "execution_count": null,
   "id": "ea0e69e0",
   "metadata": {},
   "outputs": [],
   "source": []
  }
 ],
 "metadata": {
  "kernelspec": {
   "display_name": "Python 3",
   "language": "python",
   "name": "python3"
  },
  "language_info": {
   "codemirror_mode": {
    "name": "ipython",
    "version": 3
   },
   "file_extension": ".py",
   "mimetype": "text/x-python",
   "name": "python",
   "nbconvert_exporter": "python",
   "pygments_lexer": "ipython3",
   "version": "3.8.8"
  }
 },
 "nbformat": 4,
 "nbformat_minor": 5
}
