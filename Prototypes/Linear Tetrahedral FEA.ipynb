{
 "cells": [
  {
   "cell_type": "code",
   "execution_count": 1,
   "id": "e22fef9f",
   "metadata": {},
   "outputs": [],
   "source": [
    "import numpy as np\n",
    "from numpy.linalg import inv\n",
    "import matplotlib.pyplot as plt\n",
    "import pandas as pd"
   ]
  },
  {
   "cell_type": "code",
   "execution_count": 2,
   "id": "8d4b9b37",
   "metadata": {},
   "outputs": [],
   "source": [
    "class CentralDifference:\n",
    "    def __init__(self, dt, init_disp, init_R, k, m):\n",
    "        self.dt = dt\n",
    "        self.init_disp = init_disp\n",
    "        self.k = k\n",
    "        self.m = m\n",
    "        \n",
    "        self.velocity = np.zeros(init_disp.shape)\n",
    "        self.accel = np.matmul(init_R, inv(self.m))\n",
    "        \n",
    "        self.a0 = 1 / dt ** 2\n",
    "        self.a1 = 1 / 2 * dt\n",
    "        self.a2 = 2 * self.a0\n",
    "        self.a3 = 1 / self.a2\n",
    "        \n",
    "        self.em = inv(self.a0 * m)\n",
    "        \n",
    "        self._get_last(init_disp)\n",
    "        \n",
    "    def solve(self, U, R):\n",
    "        el = R - np.matmul((self.k - self.a2 * self.m), U) - np.matmul(self.a0 * self.m, self.last_pos)\n",
    "        nU = np.matmul(self.em, el)\n",
    "        self.accel = self.a0 * (self.last_pos - 2 * U + nU)\n",
    "        self.velocity = self.a1 * ((-1 * self.last_pos) + nU)\n",
    "        self.last_pos = U\n",
    "        return nU\n",
    "    \n",
    "    def _get_last(self, pos):\n",
    "        self.last_pos = pos - self.dt * self.velocity + self.a3 * self.accel\n",
    "        "
   ]
  },
  {
   "cell_type": "code",
   "execution_count": 85,
   "id": "633cb488",
   "metadata": {},
   "outputs": [],
   "source": [
    "raw = np.array([\n",
    "     3.54627e+08, 4.20673e+06, 8.41346e+06,-2.35577e+08, 5.04808e+06, 1.00962e+07,     -168269, 3.36538e+06,           0,-1.17536e+08,-1.26202e+07, 1.68269e+06,     -673077,           0, 6.73077e+06,-1.18041e+08,      841346,-2.52404e+07, 1.17368e+08,     -841346,-1.68269e+06,           0,           0,           0,\n",
    " 4.20673e+06, 1.02855e+08,      420673, 3.36538e+06,-6.73077e+07,           0, 5.04808e+06,     -588942,      504808,-1.26202e+07,-3.36118e+07,     84134.6,           0,     -673077,      336538,     -841346,-3.36959e+07,    -84134.6,      841346, 3.30228e+07,-1.26202e+06,           0,           0,           0,\n",
    " 8.41346e+06,      420673, 1.04748e+08, 6.73077e+06,           0,-6.73077e+07,           0,      336538,     -168269,-1.68269e+06,    -84134.6,-3.25601e+07, 1.00962e+07,      504808,-2.35577e+06,-2.52404e+07,     84134.6,-3.47476e+07, 1.68269e+06,-1.26202e+06, 3.23918e+07,           0,           0,           0,\n",
    "-2.35577e+08, 3.36538e+06, 6.73077e+06, 2.36418e+08,-8.41346e+06,-1.68269e+07,           0,           0,           0,     -168269, 5.04808e+06,           0,           0,           0,           0,     -673077,           0, 1.00962e+07,           0,           0,           0,           0,           0,           0,\n",
    " 5.04808e+06,-6.73077e+07,           0,-8.41346e+06, 6.85697e+07,      841346,           0,           0,           0, 3.36538e+06,     -588942,     -336538,           0,           0,           0,           0,     -673077,     -504808,           0,           0,           0,           0,           0,           0,\n",
    " 1.00962e+07,           0,-6.73077e+07,-1.68269e+07,      841346, 6.98317e+07,           0,           0,           0,           0,     -504808,     -168269,           0,           0,           0, 6.73077e+06,     -336538,-2.35577e+06,           0,           0,           0,           0,           0,           0,\n",
    "     -168269, 5.04808e+06,           0,           0,           0,           0, 2.36418e+08,-8.41346e+06, 1.68269e+07,-2.35577e+08, 3.36538e+06,-6.73077e+06,           0,           0,           0,           0,           0,           0,     -673077,           0,-1.00962e+07,           0,           0,           0,\n",
    " 3.36538e+06,     -588942,      336538,           0,           0,           0,-8.41346e+06, 6.85697e+07,     -841346, 5.04808e+06,-6.73077e+07,           0,           0,           0,           0,           0,           0,           0,           0,     -673077,      504808,           0,           0,           0,\n",
    "           0,      504808,     -168269,           0,           0,           0, 1.68269e+07,     -841346, 6.98317e+07,-1.00962e+07,           0,-6.73077e+07,           0,           0,           0,           0,           0,           0,-6.73077e+06,      336538,-2.35577e+06,           0,           0,           0,\n",
    "-1.17536e+08,-1.26202e+07,-1.68269e+06,     -168269, 3.36538e+06,           0,-2.35577e+08, 5.04808e+06,-1.00962e+07, 3.54627e+08, 4.20673e+06,-8.41346e+06,           0,           0,           0, 1.17368e+08,     -841346, 1.68269e+06,-1.18041e+08,      841346, 2.52404e+07,     -673077,           0,-6.73077e+06,\n",
    "-1.26202e+07,-3.36118e+07,    -84134.6, 5.04808e+06,     -588942,     -504808, 3.36538e+06,-6.73077e+07,           0, 4.20673e+06, 1.02855e+08,     -420673,           0,           0,           0,      841346, 3.30228e+07, 1.26202e+06,     -841346,-3.36959e+07,     84134.6,           0,     -673077,     -336538,\n",
    " 1.68269e+06,     84134.6,-3.25601e+07,           0,     -336538,     -168269,-6.73077e+06,           0,-6.73077e+07,-8.41346e+06,     -420673, 1.04748e+08,           0,           0,           0,-1.68269e+06, 1.26202e+06, 3.23918e+07, 2.52404e+07,    -84134.6,-3.47476e+07,-1.00962e+07,     -504808,-2.35577e+06,\n",
    "     -673077,           0, 1.00962e+07,           0,           0,           0,           0,           0,           0,           0,           0,           0, 2.36418e+08, 8.41346e+06,-1.68269e+07,-2.35577e+08,-3.36538e+06, 6.73077e+06,     -168269,-5.04808e+06,           0,           0,           0,           0,\n",
    "           0,     -673077,      504808,           0,           0,           0,           0,           0,           0,           0,           0,           0, 8.41346e+06, 6.85697e+07,     -841346,-5.04808e+06,-6.73077e+07,           0,-3.36538e+06,     -588942,      336538,           0,           0,           0,\n",
    " 6.73077e+06,      336538,-2.35577e+06,           0,           0,           0,           0,           0,           0,           0,           0,           0,-1.68269e+07,     -841346, 6.98317e+07, 1.00962e+07,           0,-6.73077e+07,           0,      504808,     -168269,           0,           0,           0,\n",
    "-1.18041e+08,     -841346,-2.52404e+07,     -673077,           0, 6.73077e+06,           0,           0,           0, 1.17368e+08,      841346,-1.68269e+06,-2.35577e+08,-5.04808e+06, 1.00962e+07, 3.54627e+08,-4.20673e+06, 8.41346e+06,-1.17536e+08, 1.26202e+07, 1.68269e+06,     -168269,-3.36538e+06,           0,\n",
    "      841346,-3.36959e+07,     84134.6,           0,     -673077,     -336538,           0,           0,           0,     -841346, 3.30228e+07, 1.26202e+06,-3.36538e+06,-6.73077e+07,           0,-4.20673e+06, 1.02855e+08,     -420673, 1.26202e+07,-3.36118e+07,    -84134.6,-5.04808e+06,     -588942,     -504808,\n",
    "-2.52404e+07,    -84134.6,-3.47476e+07, 1.00962e+07,     -504808,-2.35577e+06,           0,           0,           0, 1.68269e+06, 1.26202e+06, 3.23918e+07, 6.73077e+06,           0,-6.73077e+07, 8.41346e+06,     -420673, 1.04748e+08,-1.68269e+06,     84134.6,-3.25601e+07,           0,     -336538,     -168269,\n",
    " 1.17368e+08,      841346, 1.68269e+06,           0,           0,           0,     -673077,           0,-6.73077e+06,-1.18041e+08,     -841346, 2.52404e+07,     -168269,-3.36538e+06,           0,-1.17536e+08, 1.26202e+07,-1.68269e+06, 3.54627e+08,-4.20673e+06,-8.41346e+06,-2.35577e+08,-5.04808e+06,-1.00962e+07,\n",
    "     -841346, 3.30228e+07,-1.26202e+06,           0,           0,           0,           0,     -673077,      336538,      841346,-3.36959e+07,    -84134.6,-5.04808e+06,     -588942,      504808, 1.26202e+07,-3.36118e+07,     84134.6,-4.20673e+06, 1.02855e+08,      420673,-3.36538e+06,-6.73077e+07,           0,\n",
    "-1.68269e+06,-1.26202e+06, 3.23918e+07,           0,           0,           0,-1.00962e+07,      504808,-2.35577e+06, 2.52404e+07,     84134.6,-3.47476e+07,           0,      336538,     -168269, 1.68269e+06,    -84134.6,-3.25601e+07,-8.41346e+06,      420673, 1.04748e+08,-6.73077e+06,           0,-6.73077e+07,\n",
    "           0,           0,           0,           0,           0,           0,           0,           0,           0,     -673077,           0,-1.00962e+07,           0,           0,           0,     -168269,-5.04808e+06,           0,-2.35577e+08,-3.36538e+06,-6.73077e+06, 2.36418e+08, 8.41346e+06, 1.68269e+07,\n",
    "           0,           0,           0,           0,           0,           0,           0,           0,           0,           0,     -673077,     -504808,           0,           0,           0,-3.36538e+06,     -588942,     -336538,-5.04808e+06,-6.73077e+07,           0, 8.41346e+06, 6.85697e+07,      841346,\n",
    "           0,           0,           0,           0,           0,           0,           0,           0,           0,-6.73077e+06,     -336538,-2.35577e+06,           0,           0,           0,           0,     -504808,     -168269,-1.00962e+07,           0,-6.73077e+07, 1.68269e+07,      841346, 6.98317e+07,\n",
    "\n",
    "])\n",
    "global_stiffness = raw.reshape(24, 24)\n",
    "\n",
    "def solve_linear_tetrahedral(U):\n",
    "    return np.matmul(global_stiffness, U)"
   ]
  },
  {
   "cell_type": "markdown",
   "id": "ae4d4900",
   "metadata": {},
   "source": [
    "### Some Debugging...\n",
    "Currently, my code seems to grow without bound when I run the solver despite the system reaching equilibrium in the basic test below:"
   ]
  },
  {
   "cell_type": "code",
   "execution_count": 86,
   "id": "feb43fa0",
   "metadata": {},
   "outputs": [
    {
     "data": {
      "image/png": "[encoded data removed]",
      "text/plain": [
       "<Figure size 432x288 with 1 Axes>"
      ]
     },
     "metadata": {
      "needs_background": "light"
     },
     "output_type": "display_data"
    }
   ],
   "source": [
    "init_disp = np.array([0, 0])\n",
    "init_R = np.array([0, 10])\n",
    "k = np.array([[6, -2], [-2, 4]])\n",
    "m = np.array([[2, 0], [0, 1]])\n",
    "cd = CentralDifference(0.28, init_disp, init_R, k, m)\n",
    "\n",
    "U = np.array([0, 0])\n",
    "R = np.array([0, 10])\n",
    "results = []\n",
    "n = 50\n",
    "for i in range(n):\n",
    "    U = cd.solve(U, R)\n",
    "    results.append(U)\n",
    "    \n",
    "x = [i for i in range(n)]\n",
    "    \n",
    "results = np.array(results)\n",
    "plt.scatter(x, results[:, 0])\n",
    "plt.scatter(x, results[:, 1])\n",
    "plt.show()"
   ]
  },
  {
   "cell_type": "markdown",
   "id": "035a2491",
   "metadata": {},
   "source": [
    "### Now\n",
    "I intend to roll together the linear solver and put the book tetrahedrals from Matlab finite elements and see if we get a similar wavy result."
   ]
  },
  {
   "cell_type": "code",
   "execution_count": 100,
   "id": "a29334df",
   "metadata": {},
   "outputs": [
    {
     "name": "stdout",
     "output_type": "stream",
     "text": [
      "[ 0.    0.    0.    0.    0.    0.    0.   -9.81  0.    0.   -9.81  0.\n",
      "  0.    0.    0.    0.    0.    0.    0.   -9.81  0.    0.   -9.81  0.  ]\n",
      "[array([0., 0., 0., 0., 0., 0., 0., 0., 0., 0., 0., 0., 0., 0., 0., 0., 0.,\n",
      "       0., 0., 0., 0., 0., 0., 0.]), array([ 0.000e+00,  0.000e+00,  0.000e+00,  0.000e+00,  0.000e+00,\n",
      "        0.000e+00,  0.000e+00, -4.905e-06,  0.000e+00,  0.000e+00,\n",
      "       -4.905e-06,  0.000e+00,  0.000e+00,  0.000e+00,  0.000e+00,\n",
      "        0.000e+00,  0.000e+00,  0.000e+00,  0.000e+00, -4.905e-06,\n",
      "        0.000e+00,  0.000e+00, -4.905e-06,  0.000e+00]), array([-4.95216942e-05, -5.77780551e-06, -4.95216942e-06,  2.47608324e-05,\n",
      "       -2.88876051e-06, -2.47608324e-06, -2.47608324e-05, -1.67313327e-05,\n",
      "       -2.47608324e-06,  4.95216452e-05, -1.38403257e-05, -4.95216452e-06,\n",
      "       -2.47608324e-05, -2.88876051e-06,  2.47608324e-06,  4.95216942e-05,\n",
      "       -5.77780551e-06,  4.95216942e-06, -4.95216452e-05, -1.38403257e-05,\n",
      "        4.95216452e-06,  2.47608324e-05, -1.67313327e-05,  2.47608324e-06]), array([ 4.08587627e-02,  1.14152145e-03,  2.10596661e-03, -1.74222160e-02,\n",
      "        8.59442024e-05,  4.22279813e-04,  1.74221879e-02, -1.29954811e-04,\n",
      "        4.22278315e-04, -4.08587347e-02, -1.18579019e-03,  2.10596250e-03,\n",
      "        1.74222160e-02,  8.59442024e-05, -4.22279813e-04, -4.08587627e-02,\n",
      "        1.14152145e-03, -2.10596661e-03,  4.08587347e-02, -1.18579019e-03,\n",
      "       -2.10596250e-03, -1.74221879e-02, -1.29954811e-04, -4.22278315e-04]), array([-33.01946208,  -0.8611554 ,  -1.69863663,  13.6921252 ,\n",
      "        -0.14485914,  -0.32245645, -13.69210983,   0.14476276,\n",
      "        -0.32245583,  33.01944658,   0.86109486,  -1.69863474,\n",
      "       -13.6921252 ,  -0.14485914,   0.32245645,  33.01946208,\n",
      "        -0.8611554 ,   1.69863663, -33.01944658,   0.86109486,\n",
      "         1.69863474,  13.69210983,   0.14476276,   0.32245583])]\n"
     ]
    },
    {
     "data": {
      "image/png": "[encoded data removed]",
      "text/plain": [
       "<Figure size 432x288 with 1 Axes>"
      ]
     },
     "metadata": {
      "needs_background": "light"
     },
     "output_type": "display_data"
    }
   ],
   "source": [
    "U = np.zeros(24)\n",
    "R = np.array([\n",
    "    0,\n",
    "    0,\n",
    "    0,\n",
    "    0,\n",
    "    0,\n",
    "    0,\n",
    "    0,\n",
    "-9.81,\n",
    "    0,\n",
    "    0,\n",
    "-9.81,\n",
    "    0,\n",
    "    0,\n",
    "    0,\n",
    "    0,\n",
    "    0,\n",
    "    0,\n",
    "    0,\n",
    "    0,\n",
    "-9.81,\n",
    "    0,\n",
    "    0,\n",
    "-9.81,\n",
    "    0,\n",
    "])\n",
    "print(R)\n",
    "m = np.identity(24)\n",
    "cd = CentralDifference(1e-3, U, R, global_stiffness, m)\n",
    "\n",
    "results = []\n",
    "n = 5\n",
    "for i in range(n):\n",
    "    results.append(U)\n",
    "    U = cd.solve(U, R)\n",
    "    \n",
    "x = [i for i in range(n)]\n",
    "print(results)\n",
    "    \n",
    "results = np.array(results)\n",
    "plt.scatter(x, results[:, 3])\n",
    "plt.scatter(x, results[:, 4])\n",
    "plt.scatter(x, results[:, 7])\n",
    "plt.scatter(x, results[:, 8])\n",
    "plt.show()"
   ]
  },
  {
   "cell_type": "code",
   "execution_count": null,
   "id": "1b085238",
   "metadata": {},
   "outputs": [],
   "source": []
  }
 ],
 "metadata": {
  "kernelspec": {
   "display_name": "Python 3",
   "language": "python",
   "name": "python3"
  },
  "language_info": {
   "codemirror_mode": {
    "name": "ipython",
    "version": 3
   },
   "file_extension": ".py",
   "mimetype": "text/x-python",
   "name": "python",
   "nbconvert_exporter": "python",
   "pygments_lexer": "ipython3",
   "version": "3.8.8"
  }
 },
 "nbformat": 4,
 "nbformat_minor": 5
}
