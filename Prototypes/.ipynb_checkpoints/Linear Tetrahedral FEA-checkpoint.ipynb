{
 "cells": [
  {
   "cell_type": "code",
   "execution_count": 1,
   "id": "e22fef9f",
   "metadata": {},
   "outputs": [],
   "source": [
    "import numpy as np\n",
    "from numpy.linalg import inv\n",
    "import matplotlib.pyplot as plt"
   ]
  },
  {
   "cell_type": "code",
   "execution_count": 2,
   "id": "8d4b9b37",
   "metadata": {},
   "outputs": [],
   "source": [
    "class CentralDifference:\n",
    "    def __init__(self, dt, init_disp, init_R, k, m):\n",
    "        self.dt = dt\n",
    "        self.init_disp = init_disp\n",
    "        self.k = k\n",
    "        self.m = m\n",
    "        \n",
    "        self.velocity = np.zeros(init_disp.shape)\n",
    "        self.accel = np.matmul(init_R, inv(self.m))\n",
    "        \n",
    "        self.a0 = 1 / dt ** 2\n",
    "        self.a1 = 1 / 2 * dt\n",
    "        self.a2 = 2 * self.a0\n",
    "        self.a3 = 1 / self.a2\n",
    "        \n",
    "        self.em = inv(self.a0 * m)\n",
    "        \n",
    "        self._get_last(init_disp)\n",
    "        \n",
    "    def solve(self, U, R):\n",
    "        el = R - np.matmul((self.k - self.a2 * self.m), U) - np.matmul(self.a0 * self.m, self.last_pos)\n",
    "        nU = np.matmul(self.em, el)\n",
    "        self.accel = self.a0 * (self.last_pos - 2 * U + nU)\n",
    "        self.velocity = self.a1 * ((-1 * self.last_pos) + nU)\n",
    "        self.last_pos = U\n",
    "        return nU\n",
    "    \n",
    "    def _get_last(self, pos):\n",
    "        self.last_pos = pos - self.dt * self.velocity + self.a3 * self.accel\n",
    "        "
   ]
  },
  {
   "cell_type": "code",
   "execution_count": 31,
   "id": "633cb488",
   "metadata": {},
   "outputs": [],
   "source": [
    "raw = np.array([\n",
    "     3.54627e+08, 4.20673e+06, 8.41346e+06,-2.35577e+08, 5.04808e+06, 1.00962e+07,     -168269, 3.36538e+06,           0,-1.17536e+08,-1.26202e+07, 1.68269e+06,     -673077,           0, 6.73077e+06,-1.18041e+08,      841346,-2.52404e+07, 1.17368e+08,     -841346,-1.68269e+06,           0,           0,           0,\n",
    " 4.20673e+06, 1.02855e+08,      420673, 3.36538e+06,-6.73077e+07,           0, 5.04808e+06,     -588942,      504808,-1.26202e+07,-3.36118e+07,     84134.6,           0,     -673077,      336538,     -841346,-3.36959e+07,    -84134.6,      841346, 3.30228e+07,-1.26202e+06,           0,           0,           0,\n",
    " 8.41346e+06,      420673, 1.04748e+08, 6.73077e+06,           0,-6.73077e+07,           0,      336538,     -168269,-1.68269e+06,    -84134.6,-3.25601e+07, 1.00962e+07,      504808,-2.35577e+06,-2.52404e+07,     84134.6,-3.47476e+07, 1.68269e+06,-1.26202e+06, 3.23918e+07,           0,           0,           0,\n",
    "-2.35577e+08, 3.36538e+06, 6.73077e+06, 2.36418e+08,-8.41346e+06,-1.68269e+07,           0,           0,           0,     -168269, 5.04808e+06,           0,           0,           0,           0,     -673077,           0, 1.00962e+07,           0,           0,           0,           0,           0,           0,\n",
    " 5.04808e+06,-6.73077e+07,           0,-8.41346e+06, 6.85697e+07,      841346,           0,           0,           0, 3.36538e+06,     -588942,     -336538,           0,           0,           0,           0,     -673077,     -504808,           0,           0,           0,           0,           0,           0,\n",
    " 1.00962e+07,           0,-6.73077e+07,-1.68269e+07,      841346, 6.98317e+07,           0,           0,           0,           0,     -504808,     -168269,           0,           0,           0, 6.73077e+06,     -336538,-2.35577e+06,           0,           0,           0,           0,           0,           0,\n",
    "     -168269, 5.04808e+06,           0,           0,           0,           0, 2.36418e+08,-8.41346e+06, 1.68269e+07,-2.35577e+08, 3.36538e+06,-6.73077e+06,           0,           0,           0,           0,           0,           0,     -673077,           0,-1.00962e+07,           0,           0,           0,\n",
    " 3.36538e+06,     -588942,      336538,           0,           0,           0,-8.41346e+06, 6.85697e+07,     -841346, 5.04808e+06,-6.73077e+07,           0,           0,           0,           0,           0,           0,           0,           0,     -673077,      504808,           0,           0,           0,\n",
    "           0,      504808,     -168269,           0,           0,           0, 1.68269e+07,     -841346, 6.98317e+07,-1.00962e+07,           0,-6.73077e+07,           0,           0,           0,           0,           0,           0,-6.73077e+06,      336538,-2.35577e+06,           0,           0,           0,\n",
    "-1.17536e+08,-1.26202e+07,-1.68269e+06,     -168269, 3.36538e+06,           0,-2.35577e+08, 5.04808e+06,-1.00962e+07, 3.54627e+08, 4.20673e+06,-8.41346e+06,           0,           0,           0, 1.17368e+08,     -841346, 1.68269e+06,-1.18041e+08,      841346, 2.52404e+07,     -673077,           0,-6.73077e+06,\n",
    "-1.26202e+07,-3.36118e+07,    -84134.6, 5.04808e+06,     -588942,     -504808, 3.36538e+06,-6.73077e+07,           0, 4.20673e+06, 1.02855e+08,     -420673,           0,           0,           0,      841346, 3.30228e+07, 1.26202e+06,     -841346,-3.36959e+07,     84134.6,           0,     -673077,     -336538,\n",
    " 1.68269e+06,     84134.6,-3.25601e+07,           0,     -336538,     -168269,-6.73077e+06,           0,-6.73077e+07,-8.41346e+06,     -420673, 1.04748e+08,           0,           0,           0,-1.68269e+06, 1.26202e+06, 3.23918e+07, 2.52404e+07,    -84134.6,-3.47476e+07,-1.00962e+07,     -504808,-2.35577e+06,\n",
    "     -673077,           0, 1.00962e+07,           0,           0,           0,           0,           0,           0,           0,           0,           0, 2.36418e+08, 8.41346e+06,-1.68269e+07,-2.35577e+08,-3.36538e+06, 6.73077e+06,     -168269,-5.04808e+06,           0,           0,           0,           0,\n",
    "           0,     -673077,      504808,           0,           0,           0,           0,           0,           0,           0,           0,           0, 8.41346e+06, 6.85697e+07,     -841346,-5.04808e+06,-6.73077e+07,           0,-3.36538e+06,     -588942,      336538,           0,           0,           0,\n",
    " 6.73077e+06,      336538,-2.35577e+06,           0,           0,           0,           0,           0,           0,           0,           0,           0,-1.68269e+07,     -841346, 6.98317e+07, 1.00962e+07,           0,-6.73077e+07,           0,      504808,     -168269,           0,           0,           0,\n",
    "-1.18041e+08,     -841346,-2.52404e+07,     -673077,           0, 6.73077e+06,           0,           0,           0, 1.17368e+08,      841346,-1.68269e+06,-2.35577e+08,-5.04808e+06, 1.00962e+07, 3.54627e+08,-4.20673e+06, 8.41346e+06,-1.17536e+08, 1.26202e+07, 1.68269e+06,     -168269,-3.36538e+06,           0,\n",
    "      841346,-3.36959e+07,     84134.6,           0,     -673077,     -336538,           0,           0,           0,     -841346, 3.30228e+07, 1.26202e+06,-3.36538e+06,-6.73077e+07,           0,-4.20673e+06, 1.02855e+08,     -420673, 1.26202e+07,-3.36118e+07,    -84134.6,-5.04808e+06,     -588942,     -504808,\n",
    "-2.52404e+07,    -84134.6,-3.47476e+07, 1.00962e+07,     -504808,-2.35577e+06,           0,           0,           0, 1.68269e+06, 1.26202e+06, 3.23918e+07, 6.73077e+06,           0,-6.73077e+07, 8.41346e+06,     -420673, 1.04748e+08,-1.68269e+06,     84134.6,-3.25601e+07,           0,     -336538,     -168269,\n",
    " 1.17368e+08,      841346, 1.68269e+06,           0,           0,           0,     -673077,           0,-6.73077e+06,-1.18041e+08,     -841346, 2.52404e+07,     -168269,-3.36538e+06,           0,-1.17536e+08, 1.26202e+07,-1.68269e+06, 3.54627e+08,-4.20673e+06,-8.41346e+06,-2.35577e+08,-5.04808e+06,-1.00962e+07,\n",
    "     -841346, 3.30228e+07,-1.26202e+06,           0,           0,           0,           0,     -673077,      336538,      841346,-3.36959e+07,    -84134.6,-5.04808e+06,     -588942,      504808, 1.26202e+07,-3.36118e+07,     84134.6,-4.20673e+06, 1.02855e+08,      420673,-3.36538e+06,-6.73077e+07,           0,\n",
    "-1.68269e+06,-1.26202e+06, 3.23918e+07,           0,           0,           0,-1.00962e+07,      504808,-2.35577e+06, 2.52404e+07,     84134.6,-3.47476e+07,           0,      336538,     -168269, 1.68269e+06,    -84134.6,-3.25601e+07,-8.41346e+06,      420673, 1.04748e+08,-6.73077e+06,           0,-6.73077e+07,\n",
    "           0,           0,           0,           0,           0,           0,           0,           0,           0,     -673077,           0,-1.00962e+07,           0,           0,           0,     -168269,-5.04808e+06,           0,-2.35577e+08,-3.36538e+06,-6.73077e+06, 2.36418e+08, 8.41346e+06, 1.68269e+07,\n",
    "           0,           0,           0,           0,           0,           0,           0,           0,           0,           0,     -673077,     -504808,           0,           0,           0,-3.36538e+06,     -588942,     -336538,-5.04808e+06,-6.73077e+07,           0, 8.41346e+06, 6.85697e+07,      841346,\n",
    "           0,           0,           0,           0,           0,           0,           0,           0,           0,-6.73077e+06,     -336538,-2.35577e+06,           0,           0,           0,           0,     -504808,     -168269,-1.00962e+07,           0,-6.73077e+07, 1.68269e+07,      841346, 6.98317e+07,\n",
    "\n",
    "])\n",
    "global_stiffness = raw.reshape(24, 24)\n",
    "\n",
    "def solve_linear_tetrahedral(U):\n",
    "    return np.matmul(global_stiffness, U)"
   ]
  },
  {
   "cell_type": "code",
   "execution_count": 24,
   "id": "e85c9e20",
   "metadata": {},
   "outputs": [
    {
     "data": {
      "text/markdown": [
       "### Some Debugging...\n",
       "Currently, my code seems to grow without bound when I run the solver despite the system reaching equilibrium in the basic test below:\n"
      ],
      "text/plain": [
       "<IPython.core.display.Markdown object>"
      ]
     },
     "metadata": {},
     "output_type": "display_data"
    }
   ],
   "source": [
    "%%markdown\n",
    "### Some Debugging...\n",
    "Currently, my code seems to grow without bound when I run the solver despite the system reaching equilibrium in the basic test below:"
   ]
  },
  {
   "cell_type": "code",
   "execution_count": 32,
   "id": "feb43fa0",
   "metadata": {},
   "outputs": [
    {
     "data": {
      "image/png": "[encoded data removed]",
      "text/plain": [
       "<Figure size 432x288 with 1 Axes>"
      ]
     },
     "metadata": {
      "needs_background": "light"
     },
     "output_type": "display_data"
    }
   ],
   "source": [
    "init_disp = np.array([0, 0])\n",
    "init_R = np.array([0, 10])\n",
    "k = np.array([[6, -2], [-2, 4]])\n",
    "m = np.array([[2, 0], [0, 1]])\n",
    "cd = CentralDifference(0.28, init_disp, init_R, k, m)\n",
    "\n",
    "U = np.array([0, 0])\n",
    "R = np.array([0, 10])\n",
    "results = []\n",
    "n = 50\n",
    "for i in range(n):\n",
    "    U = cd.solve(U, R)\n",
    "    results.append(U)\n",
    "    \n",
    "x = [i for i in range(n)]\n",
    "    \n",
    "results = np.array(results)\n",
    "plt.scatter(x, results[:, 0])\n",
    "plt.scatter(x, results[:, 1])\n",
    "plt.show()"
   ]
  },
  {
   "cell_type": "code",
   "execution_count": 25,
   "id": "ea0e69e0",
   "metadata": {},
   "outputs": [
    {
     "data": {
      "text/markdown": [
       "### Now\n",
       "I intend to roll together the linear solver and put the book tetrahedrals from Matlab finite elements and see if we get a similar wavy result.\n"
      ],
      "text/plain": [
       "<IPython.core.display.Markdown object>"
      ]
     },
     "metadata": {},
     "output_type": "display_data"
    }
   ],
   "source": [
    "%%markdown\n",
    "### Now\n",
    "I intend to roll together the linear solver and put the book tetrahedrals from Matlab finite elements and see if we get a similar wavy result."
   ]
  },
  {
   "cell_type": "code",
   "execution_count": 44,
   "id": "8258031e",
   "metadata": {},
   "outputs": [
    {
     "name": "stdout",
     "output_type": "stream",
     "text": [
      "[-3.13293993e+01 -5.34920138e+00 -9.32854007e+00  3.07042068e+01\n",
      " -4.02575651e+00 -3.07762342e+00 -9.10055990e-05  3.12502589e+00\n",
      " -2.30171200e-06  1.93119728e-04  6.25212990e+00  1.50151556e-05\n",
      " -3.07042607e+01 -4.02583297e+00  3.07763010e+00  3.13295103e+01\n",
      " -5.34973999e+00  9.32853158e+00 -2.37272126e-04  6.25335396e+00\n",
      " -9.29840320e-06  7.79416880e-05  3.12442418e+00 -1.60315700e-06]\n"
     ]
    }
   ],
   "source": [
    "U = np.zeros(24)\n",
    "R = np.zeros(24)\n",
    "m = np.identity(24)\n",
    "cd = CentralDifference(1e-2, U, R, global_stiffness, m)\n",
    "U = np.array([0,\n",
    "           0,\n",
    "           0,\n",
    "           0,\n",
    "           0,\n",
    "           0,\n",
    "-3.49318e-09,\n",
    " 6.08193e-06,\n",
    " 9.03333e-08,\n",
    "-1.27004e-07,\n",
    " 6.07812e-06,\n",
    " 5.55053e-08,\n",
    "           0,\n",
    "           0,\n",
    "           0,\n",
    "           0,\n",
    "           0,\n",
    "           0,\n",
    " 1.27024e-07,\n",
    " 6.07813e-06,\n",
    " -5.5515e-08,\n",
    " 3.51326e-09,\n",
    " 6.08193e-06,\n",
    "-9.03431e-08,\n",
    "])\n",
    "\n",
    "R = solve_linear_tetrahedral(U)"
   ]
  },
  {
   "cell_type": "code",
   "execution_count": 45,
   "id": "28f9a64f",
   "metadata": {},
   "outputs": [
    {
     "data": {
      "text/markdown": [
       "### Success! Sorta...\n",
       "We have proven that we can reproduce the results from the matlab book, now we can run our solver for a few rounds and see what we get...\n"
      ],
      "text/plain": [
       "<IPython.core.display.Markdown object>"
      ]
     },
     "metadata": {},
     "output_type": "display_data"
    }
   ],
   "source": [
    "%%markdown\n",
    "### Success! Sorta...\n",
    "We have proven that we can reproduce the results from the matlab book, now we can run our solver for a few rounds and see what we get..."
   ]
  },
  {
   "cell_type": "code",
   "execution_count": 48,
   "id": "9eccebdc",
   "metadata": {},
   "outputs": [
    {
     "name": "stdout",
     "output_type": "stream",
     "text": [
      "[ 0.0000000e+00  0.0000000e+00  0.0000000e+00  0.0000000e+00\n",
      "  0.0000000e+00  0.0000000e+00 -7.6849960e-08  1.3380246e-04\n",
      "  1.9873326e-06 -2.7940880e-06  1.3371864e-04  1.2211166e-06\n",
      "  0.0000000e+00  0.0000000e+00  0.0000000e+00  0.0000000e+00\n",
      "  0.0000000e+00  0.0000000e+00  2.7945280e-06  1.3371886e-04\n",
      " -1.2213300e-06  7.7291720e-08  1.3380246e-04 -1.9875482e-06]\n",
      "[ 0.0000000e+00  0.0000000e+00  0.0000000e+00  0.0000000e+00\n",
      "  0.0000000e+00  0.0000000e+00 -8.0343140e-08  1.3988439e-04\n",
      "  2.0776659e-06 -2.9210920e-06  1.3979676e-04  1.2766219e-06\n",
      "  0.0000000e+00  0.0000000e+00  0.0000000e+00  0.0000000e+00\n",
      "  0.0000000e+00  0.0000000e+00  2.9215520e-06  1.3979699e-04\n",
      " -1.2768450e-06  8.0804980e-08  1.3988439e-04 -2.0778913e-06]\n",
      "[ 0.0000000e+00  0.0000000e+00  0.0000000e+00  0.0000000e+00\n",
      "  0.0000000e+00  0.0000000e+00 -8.3836320e-08  1.4596632e-04\n",
      "  2.1679992e-06 -3.0480960e-06  1.4587488e-04  1.3321272e-06\n",
      "  0.0000000e+00  0.0000000e+00  0.0000000e+00  0.0000000e+00\n",
      "  0.0000000e+00  0.0000000e+00  3.0485760e-06  1.4587512e-04\n",
      " -1.3323600e-06  8.4318240e-08  1.4596632e-04 -2.1682344e-06]\n",
      "[ 0.0000000e+00  0.0000000e+00  0.0000000e+00  0.0000000e+00\n",
      "  0.0000000e+00  0.0000000e+00 -8.7329500e-08  1.5204825e-04\n",
      "  2.2583325e-06 -3.1751000e-06  1.5195300e-04  1.3876325e-06\n",
      "  0.0000000e+00  0.0000000e+00  0.0000000e+00  0.0000000e+00\n",
      "  0.0000000e+00  0.0000000e+00  3.1756000e-06  1.5195325e-04\n",
      " -1.3878750e-06  8.7831500e-08  1.5204825e-04 -2.2585775e-06]\n",
      "[ 0.0000000e+00  0.0000000e+00  0.0000000e+00  0.0000000e+00\n",
      "  0.0000000e+00  0.0000000e+00 -9.0822680e-08  1.5813018e-04\n",
      "  2.3486658e-06 -3.3021040e-06  1.5803112e-04  1.4431378e-06\n",
      "  0.0000000e+00  0.0000000e+00  0.0000000e+00  0.0000000e+00\n",
      "  0.0000000e+00  0.0000000e+00  3.3026240e-06  1.5803138e-04\n",
      " -1.4433900e-06  9.1344760e-08  1.5813018e-04 -2.3489206e-06]\n",
      "[ 0.0000000e+00  0.0000000e+00  0.0000000e+00  0.0000000e+00\n",
      "  0.0000000e+00  0.0000000e+00 -9.4315860e-08  1.6421211e-04\n",
      "  2.4389991e-06 -3.4291080e-06  1.6410924e-04  1.4986431e-06\n",
      "  0.0000000e+00  0.0000000e+00  0.0000000e+00  0.0000000e+00\n",
      "  0.0000000e+00  0.0000000e+00  3.4296480e-06  1.6410951e-04\n",
      " -1.4989050e-06  9.4858020e-08  1.6421211e-04 -2.4392637e-06]\n",
      "[ 0.0000000e+00  0.0000000e+00  0.0000000e+00  0.0000000e+00\n",
      "  0.0000000e+00  0.0000000e+00 -9.7809040e-08  1.7029404e-04\n",
      "  2.5293324e-06 -3.5561120e-06  1.7018736e-04  1.5541484e-06\n",
      "  0.0000000e+00  0.0000000e+00  0.0000000e+00  0.0000000e+00\n",
      "  0.0000000e+00  0.0000000e+00  3.5566720e-06  1.7018764e-04\n",
      " -1.5544200e-06  9.8371280e-08  1.7029404e-04 -2.5296068e-06]\n",
      "[ 0.0000000e+00  0.0000000e+00  0.0000000e+00  0.0000000e+00\n",
      "  0.0000000e+00  0.0000000e+00 -1.0130222e-07  1.7637597e-04\n",
      "  2.6196657e-06 -3.6831160e-06  1.7626548e-04  1.6096537e-06\n",
      "  0.0000000e+00  0.0000000e+00  0.0000000e+00  0.0000000e+00\n",
      "  0.0000000e+00  0.0000000e+00  3.6836960e-06  1.7626577e-04\n",
      " -1.6099350e-06  1.0188454e-07  1.7637597e-04 -2.6199499e-06]\n",
      "[ 0.000000e+00  0.000000e+00  0.000000e+00  0.000000e+00  0.000000e+00\n",
      "  0.000000e+00 -1.047954e-07  1.824579e-04  2.709999e-06 -3.810120e-06\n",
      "  1.823436e-04  1.665159e-06  0.000000e+00  0.000000e+00  0.000000e+00\n",
      "  0.000000e+00  0.000000e+00  0.000000e+00  3.810720e-06  1.823439e-04\n",
      " -1.665450e-06  1.053978e-07  1.824579e-04 -2.710293e-06]\n",
      "[ 0.0000000e+00  0.0000000e+00  0.0000000e+00  0.0000000e+00\n",
      "  0.0000000e+00  0.0000000e+00 -1.0828858e-07  1.8853983e-04\n",
      "  2.8003323e-06 -3.9371240e-06  1.8842172e-04  1.7206643e-06\n",
      "  0.0000000e+00  0.0000000e+00  0.0000000e+00  0.0000000e+00\n",
      "  0.0000000e+00  0.0000000e+00  3.9377440e-06  1.8842203e-04\n",
      " -1.7209650e-06  1.0891106e-07  1.8853983e-04 -2.8006361e-06]\n"
     ]
    },
    {
     "data": {
      "image/png": "[encoded data removed]",
      "text/plain": [
       "<Figure size 432x288 with 1 Axes>"
      ]
     },
     "metadata": {
      "needs_background": "light"
     },
     "output_type": "display_data"
    }
   ],
   "source": [
    "results = []\n",
    "n = 10\n",
    "for i in range(n):\n",
    "    U = cd.solve(U, R)\n",
    "    R = solve_linear_tetrahedral(U)\n",
    "    results.append(U)\n",
    "    \n",
    "x = [i for i in range(n)]\n",
    "    \n",
    "results = np.array(results)\n",
    "plt.scatter(x, results[:, 0])\n",
    "plt.scatter(x, results[:, 1])\n",
    "plt.show()"
   ]
  },
  {
   "cell_type": "code",
   "execution_count": null,
   "id": "045f3b4e",
   "metadata": {},
   "outputs": [],
   "source": []
  }
 ],
 "metadata": {
  "kernelspec": {
   "display_name": "Python 3",
   "language": "python",
   "name": "python3"
  },
  "language_info": {
   "codemirror_mode": {
    "name": "ipython",
    "version": 3
   },
   "file_extension": ".py",
   "mimetype": "text/x-python",
   "name": "python",
   "nbconvert_exporter": "python",
   "pygments_lexer": "ipython3",
   "version": "3.8.8"
  }
 },
 "nbformat": 4,
 "nbformat_minor": 5
}
