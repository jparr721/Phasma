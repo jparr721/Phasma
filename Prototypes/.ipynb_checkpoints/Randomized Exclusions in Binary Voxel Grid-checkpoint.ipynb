{
 "cells": [
  {
   "cell_type": "code",
   "execution_count": 52,
   "id": "44ad9578",
   "metadata": {},
   "outputs": [
    {
     "name": "stdout",
     "output_type": "stream",
     "text": [
      "{(0, 2), (11, 15), (12, 8), (9, 15)}\n"
     ]
    },
    {
     "data": {
      "text/plain": [
       "<matplotlib.image.AxesImage at 0x1e4ed75a790>"
      ]
     },
     "execution_count": 52,
     "metadata": {},
     "output_type": "execute_result"
    },
    {
     "data": {
      "image/png": "[encoded data removed]",
      "text/plain": [
       "<Figure size 432x288 with 1 Axes>"
      ]
     },
     "metadata": {
      "needs_background": "light"
     },
     "output_type": "display_data"
    }
   ],
   "source": [
    "import numpy as np\n",
    "import random\n",
    "import matplotlib.pyplot as plt\n",
    "from typing import Tuple, Set\n",
    "\n",
    "class RandomExclusionSet:\n",
    "    def __init__(self, n_voids=4, size=4):\n",
    "        self.n_voids = n_voids\n",
    "        self.size = size\n",
    "\n",
    "def compute_valid_xy_pair(shape: Tuple[int, int], center_points: Set[Tuple[int, int]]) -> Tuple[int, int]:\n",
    "    x_options = {i for i in range(shape[0])}\n",
    "    y_options = {i for i in range(shape[1])}\n",
    "    \n",
    "    cycles = 0\n",
    "    while True:\n",
    "        if (pair := (random.choice(list(x_options)), random.choice(list(y_options)))) in center_points:\n",
    "                continue\n",
    "        if cycles > 20:\n",
    "            raise ValueError('What')\n",
    "        return pair\n",
    "    \n",
    "def insert_n_by_n_cube(array: np.array, center_point: Tuple[int, int], size: int) -> np.array:\n",
    "    for z in range(array.shape[0]):\n",
    "        for x in range(size):\n",
    "            for y in range(size):\n",
    "                xx = center_point[0] + x\n",
    "                yy = center_point[1] + y\n",
    "\n",
    "                array[z][xx][yy] = 0\n",
    "    \n",
    "    return array\n",
    "        \n",
    "def insert_exclusions(array: np.array, exclusions: RandomExclusionSet) -> np.array:\n",
    "    padded_shape = (array.shape[1] - exclusions.size, array.shape[2] - exclusions.size)\n",
    "    n_voids = exclusions.n_voids\n",
    "    selected = set()\n",
    "    \n",
    "    for i in range(n_voids, 0, -1):\n",
    "        center_point = compute_valid_xy_pair(padded_shape, selected)\n",
    "        selected.add(center_point)\n",
    "        insert_n_by_n_cube(array, center_point, exclusions.size)\n",
    "    \n",
    "    print(selected)\n",
    "    return array\n",
    "    \n",
    "\n",
    "dataset = insert_exclusions(np.ones((20, 20, 20)), RandomExclusionSet(4, 4))\n",
    "plt.imshow(dataset[0], cmap='hot', interpolation='nearest')"
   ]
  },
  {
   "cell_type": "code",
   "execution_count": 53,
   "id": "1e0e968f",
   "metadata": {},
   "outputs": [
    {
     "data": {
      "text/plain": [
       "<matplotlib.image.AxesImage at 0x1e4edec1580>"
      ]
     },
     "execution_count": 53,
     "metadata": {},
     "output_type": "execute_result"
    },
    {
     "data": {
      "image/png": "[encoded data removed]",
      "text/plain": [
       "<Figure size 432x288 with 1 Axes>"
      ]
     },
     "metadata": {
      "needs_background": "light"
     },
     "output_type": "display_data"
    }
   ],
   "source": [
    "plt.imshow(dataset[1], cmap='hot', interpolation='nearest')"
   ]
  },
  {
   "cell_type": "code",
   "execution_count": 54,
   "id": "fc86f18e",
   "metadata": {},
   "outputs": [
    {
     "data": {
      "text/plain": [
       "<matplotlib.image.AxesImage at 0x1e4edf24580>"
      ]
     },
     "execution_count": 54,
     "metadata": {},
     "output_type": "execute_result"
    },
    {
     "data": {
      "image/png": "[encoded data removed]",
      "text/plain": [
       "<Figure size 432x288 with 1 Axes>"
      ]
     },
     "metadata": {
      "needs_background": "light"
     },
     "output_type": "display_data"
    }
   ],
   "source": [
    "plt.imshow(dataset[15], cmap='hot', interpolation='nearest')"
   ]
  },
  {
   "cell_type": "code",
   "execution_count": 55,
   "id": "507c7c4d",
   "metadata": {},
   "outputs": [
    {
     "data": {
      "text/plain": [
       "<matplotlib.image.AxesImage at 0x1e4edf81a00>"
      ]
     },
     "execution_count": 55,
     "metadata": {},
     "output_type": "execute_result"
    },
    {
     "data": {
      "image/png": "[encoded data removed]",
      "text/plain": [
       "<Figure size 432x288 with 1 Axes>"
      ]
     },
     "metadata": {
      "needs_background": "light"
     },
     "output_type": "display_data"
    }
   ],
   "source": [
    "plt.imshow(dataset[19], cmap='hot', interpolation='nearest')"
   ]
  },
  {
   "cell_type": "code",
   "execution_count": null,
   "id": "36e726eb",
   "metadata": {},
   "outputs": [],
   "source": []
  }
 ],
 "metadata": {
  "kernelspec": {
   "display_name": "Python 3",
   "language": "python",
   "name": "python3"
  },
  "language_info": {
   "codemirror_mode": {
    "name": "ipython",
    "version": 3
   },
   "file_extension": ".py",
   "mimetype": "text/x-python",
   "name": "python",
   "nbconvert_exporter": "python",
   "pygments_lexer": "ipython3",
   "version": "3.8.8"
  }
 },
 "nbformat": 4,
 "nbformat_minor": 5
}
