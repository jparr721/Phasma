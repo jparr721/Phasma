{
 "cells": [
  {
   "cell_type": "code",
   "execution_count": 26,
   "id": "79210686",
   "metadata": {},
   "outputs": [],
   "source": [
    "import numpy as np\n",
    "from numpy.linalg import det\n",
    "from itertools import permutations"
   ]
  },
  {
   "cell_type": "code",
   "execution_count": 27,
   "id": "1bbb6fce",
   "metadata": {},
   "outputs": [],
   "source": [
    "def tet_area(A, B, C, D):\n",
    "    V = np.array([A, B, C, D])\n",
    "    return det(V) / 6"
   ]
  },
  {
   "cell_type": "code",
   "execution_count": 40,
   "id": "7252cae3",
   "metadata": {},
   "outputs": [
    {
     "data": {
      "text/plain": [
       "array([[ 1, -1, -1, -1],\n",
       "       [ 1,  1, -1, -1],\n",
       "       [ 1,  1,  1, -1],\n",
       "       [ 1, -1,  1, -1],\n",
       "       [ 1, -1, -1,  1],\n",
       "       [ 1,  1, -1,  1],\n",
       "       [ 1,  1,  1,  1],\n",
       "       [ 1, -1,  1,  1]])"
      ]
     },
     "execution_count": 40,
     "metadata": {},
     "output_type": "execute_result"
    }
   ],
   "source": [
    "V = np.array([\n",
    "[1, -1,-1,-1],\n",
    "[1, 1,-1,-1],\n",
    "[1, 1,1,-1],\n",
    "[1, -1,1,-1],\n",
    "[1, -1,-1,1],\n",
    "[1, 1,-1,1],\n",
    "[1, 1,1,1],\n",
    "[1, -1,1,1],\n",
    "])\n",
    "V"
   ]
  },
  {
   "cell_type": "code",
   "execution_count": 43,
   "id": "e8e02d84",
   "metadata": {},
   "outputs": [
    {
     "name": "stdout",
     "output_type": "stream",
     "text": [
      "0 2 7 6 1.333333333333333\n",
      "0 6 2 7 1.333333333333333\n",
      "0 7 6 2 1.333333333333333\n",
      "2 0 6 7 1.333333333333333\n",
      "2 6 7 0 1.333333333333333\n",
      "2 7 0 6 1.333333333333333\n",
      "6 0 7 2 1.333333333333333\n",
      "6 2 0 7 1.333333333333333\n",
      "6 7 2 0 1.333333333333333\n",
      "7 0 2 6 1.333333333333333\n",
      "7 2 6 0 1.333333333333333\n",
      "7 6 0 2 1.333333333333333\n"
     ]
    }
   ],
   "source": [
    "perms = list(permutations({2, 7, 0, 6}))\n",
    "\n",
    "for a, b, c, d in perms:\n",
    "    A = V[a]\n",
    "    B = V[b]\n",
    "    C = V[c]\n",
    "    D = V[d]\n",
    "    A = tet_area(A, B, C, D)\n",
    "    if A > 0:\n",
    "        print(a, b, c, d, A)"
   ]
  },
  {
   "cell_type": "code",
   "execution_count": null,
   "id": "5092b7bf",
   "metadata": {},
   "outputs": [],
   "source": []
  }
 ],
 "metadata": {
  "kernelspec": {
   "display_name": "Python 3",
   "language": "python",
   "name": "python3"
  },
  "language_info": {
   "codemirror_mode": {
    "name": "ipython",
    "version": 3
   },
   "file_extension": ".py",
   "mimetype": "text/x-python",
   "name": "python",
   "nbconvert_exporter": "python",
   "pygments_lexer": "ipython3",
   "version": "3.8.8"
  }
 },
 "nbformat": 4,
 "nbformat_minor": 5
}
