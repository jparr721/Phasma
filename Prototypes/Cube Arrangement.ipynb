{
 "cells": [
  {
   "cell_type": "code",
   "execution_count": 3,
   "source": [
    "# Eigth time's the charm, right?\r\n",
    "import numpy as np\r\n",
    "\r\n",
    "np.printoptions(linewidth=500)"
   ],
   "outputs": [
    {
     "output_type": "execute_result",
     "data": {
      "text/plain": [
       "<contextlib._GeneratorContextManager at 0x19aefde5760>"
      ]
     },
     "metadata": {},
     "execution_count": 3
    }
   ],
   "metadata": {}
  },
  {
   "cell_type": "code",
   "execution_count": 54,
   "source": [
    "def check_sides(row, dim, thickness):\r\n",
    "    uneven = False\r\n",
    "\r\n",
    "    for col in range(0, thickness):\r\n",
    "        # Column has voids in protected regions\r\n",
    "        if row[col] == 0:\r\n",
    "            raise ValueError(\"WTF\")\r\n",
    "        \r\n",
    "    for col in range(len(row) - thickness, len(row)):\r\n",
    "        # Column has voids in right-side protected regions\r\n",
    "        if row[col] == 0:\r\n",
    "            raise ValueError(\"WTF\")\r\n",
    "\r\n",
    "    # Now check for uneven shapes.\r\n",
    "    for i in range(thickness, len(row) - thickness, thickness):\r\n",
    "        # Iterate every dim, if there are nonzeros, we know we have a problem.\r\n",
    "        if not all(row[i:i+dim]):\r\n",
    "            pass\r\n",
    "\r\n",
    "\r\n",
    "def compute(dim, thickness):\r\n",
    "    outputs = []\r\n",
    "\r\n",
    "    newdim = dim - thickness\r\n",
    "\r\n",
    "    cd = 0\r\n",
    "\r\n",
    "    for dd in range(2, 10):\r\n",
    "        # Right side thickness\r\n",
    "        d = thickness + dd\r\n",
    "        A = np.ones((dim, 1), dtype=np.int8)\r\n",
    "        for col in range(thickness, newdim):\r\n",
    "            if cd < d:\r\n",
    "                A[col] = 0\r\n",
    "                cd += 1\r\n",
    "            else:\r\n",
    "                col += thickness\r\n",
    "                cd = 0\r\n",
    "        outputs.append(A.T)\r\n",
    "\r\n",
    "    return outputs\r\n",
    "\r\n",
    "def compute_positions(dim, thickness):\r\n",
    "    newdim = dim - thickness\r\n",
    "\r\n",
    "    A = np.ones((dim, 1), dtype=np.int8)\r\n",
    "    for col in range(thickness, newdim, thickness + 1):\r\n",
    "        A[col] = 0\r\n",
    "\r\n",
    "    return A.T\r\n"
   ],
   "outputs": [],
   "metadata": {}
  },
  {
   "cell_type": "code",
   "execution_count": 55,
   "source": [
    "A = compute(21, 2)\r\n",
    "B = compute_positions(21, 2)"
   ],
   "outputs": [],
   "metadata": {}
  },
  {
   "cell_type": "code",
   "execution_count": 56,
   "source": [
    "import matplotlib.pyplot as plt\r\n",
    "import matplotlib\r\n",
    "\r\n",
    "cmap = matplotlib.colors.ListedColormap(['r', 'k'])\r\n",
    "norm = matplotlib.colors.BoundaryNorm([0., 0.5, 1.], cmap.N)\r\n",
    "\r\n",
    "plt.imshow(A[0], cmap=cmap, norm=norm, interpolation='none')"
   ],
   "outputs": [
    {
     "output_type": "execute_result",
     "data": {
      "text/plain": [
       "<matplotlib.image.AxesImage at 0x19af4e1c6d0>"
      ]
     },
     "metadata": {},
     "execution_count": 56
    },
    {
     "output_type": "display_data",
     "data": {
      "image/png": "[encoded data removed]",
      "text/plain": [
       "<Figure size 432x288 with 1 Axes>"
      ]
     },
     "metadata": {
      "needs_background": "light"
     }
    }
   ],
   "metadata": {}
  },
  {
   "cell_type": "code",
   "execution_count": 57,
   "source": [
    "plt.imshow(A[1], cmap=cmap, norm=norm, interpolation='none')"
   ],
   "outputs": [
    {
     "output_type": "execute_result",
     "data": {
      "text/plain": [
       "<matplotlib.image.AxesImage at 0x19af4e6edc0>"
      ]
     },
     "metadata": {},
     "execution_count": 57
    },
    {
     "output_type": "display_data",
     "data": {
      "image/png": "[encoded data removed]",
      "text/plain": [
       "<Figure size 432x288 with 1 Axes>"
      ]
     },
     "metadata": {
      "needs_background": "light"
     }
    }
   ],
   "metadata": {}
  },
  {
   "cell_type": "code",
   "execution_count": 58,
   "source": [
    "plt.imshow(A[2], cmap=cmap, norm=norm, interpolation='none')"
   ],
   "outputs": [
    {
     "output_type": "execute_result",
     "data": {
      "text/plain": [
       "<matplotlib.image.AxesImage at 0x19af4ec6af0>"
      ]
     },
     "metadata": {},
     "execution_count": 58
    },
    {
     "output_type": "display_data",
     "data": {
      "image/png": "[encoded data removed]",
      "text/plain": [
       "<Figure size 432x288 with 1 Axes>"
      ]
     },
     "metadata": {
      "needs_background": "light"
     }
    }
   ],
   "metadata": {}
  },
  {
   "cell_type": "code",
   "execution_count": 59,
   "source": [
    "plt.imshow(A[3], cmap=cmap, norm=norm, interpolation='none')\r\n",
    "A[3]"
   ],
   "outputs": [
    {
     "output_type": "execute_result",
     "data": {
      "text/plain": [
       "array([[1, 1, 0, 0, 0, 1, 0, 0, 0, 0, 0, 0, 0, 1, 0, 0, 0, 0, 0, 1, 1]],\n",
       "      dtype=int8)"
      ]
     },
     "metadata": {},
     "execution_count": 59
    },
    {
     "output_type": "display_data",
     "data": {
      "image/png": "[encoded data removed]",
      "text/plain": [
       "<Figure size 432x288 with 1 Axes>"
      ]
     },
     "metadata": {
      "needs_background": "light"
     }
    }
   ],
   "metadata": {}
  },
  {
   "cell_type": "code",
   "execution_count": 60,
   "source": [
    "plt.imshow(B, cmap=cmap, norm=norm, interpolation='none')\r\n",
    "B"
   ],
   "outputs": [
    {
     "output_type": "execute_result",
     "data": {
      "text/plain": [
       "array([[1, 1, 0, 1, 1, 0, 1, 1, 0, 1, 1, 0, 1, 1, 0, 1, 1, 0, 1, 1, 1]],\n",
       "      dtype=int8)"
      ]
     },
     "metadata": {},
     "execution_count": 60
    },
    {
     "output_type": "display_data",
     "data": {
      "image/png": "[encoded data removed]",
      "text/plain": [
       "<Figure size 432x288 with 1 Axes>"
      ]
     },
     "metadata": {
      "needs_background": "light"
     }
    }
   ],
   "metadata": {}
  }
 ],
 "metadata": {
  "orig_nbformat": 4,
  "language_info": {
   "name": "python",
   "version": "3.8.8",
   "mimetype": "text/x-python",
   "codemirror_mode": {
    "name": "ipython",
    "version": 3
   },
   "pygments_lexer": "ipython3",
   "nbconvert_exporter": "python",
   "file_extension": ".py"
  },
  "kernelspec": {
   "name": "python3",
   "display_name": "Python 3.8.8 64-bit ('base': conda)"
  },
  "interpreter": {
   "hash": "a707b6ce8c685eb936424fcc3009d4b4b7a52543c4db09380a3fc49186ceb509"
  }
 },
 "nbformat": 4,
 "nbformat_minor": 2
}