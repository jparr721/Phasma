{
 "cells": [
  {
   "cell_type": "code",
   "execution_count": 1,
   "metadata": {},
   "outputs": [
    {
     "data": {
      "text/latex": [
       "$\\displaystyle 0$"
      ],
      "text/plain": [
       "0"
      ]
     },
     "execution_count": 1,
     "metadata": {},
     "output_type": "execute_result"
    }
   ],
   "source": [
    "from sympy import *\n",
    "\n",
    "def derive_neohookean_strain_enery_density():\n",
    "    mu, lambda_, J = symbols('mu lambda J')\n",
    "    F = MatrixSymbol('F', 3, 3)\n",
    "\n",
    "    return diff(mu * (J**(-2/3) * Trace(transpose(F) * F) - 3) + lambda_ * (J - 1) ** 2, F)\n",
    "derive_neohookean_strain_enery_density()"
   ]
  },
  {
   "cell_type": "code",
   "execution_count": 12,
   "metadata": {},
   "outputs": [
    {
     "data": {
      "text/latex": [
       "$\\displaystyle \\frac{\\left(1 - x\\right)^{2}}{2}$"
      ],
      "text/plain": [
       "(1 - x)**2/2"
      ]
     },
     "execution_count": 12,
     "metadata": {},
     "output_type": "execute_result"
    }
   ],
   "source": [
    "x, y, z = symbols('x y z')\n",
    "i1 = integrate(x**2, (z, 0, (1 - x - y)))\n",
    "i2 = integrate((1 - x - y), (y, 0, 1 - x))\n",
    "i2"
   ]
  },
  {
   "cell_type": "code",
   "execution_count": null,
   "metadata": {},
   "outputs": [],
   "source": [
    "from typing import Tuple\n",
    "def do_something(input: Tuple[int, str]):\n",
    "    if input:\n",
    "        return False \n",
    "    return True"
   ]
  }
 ],
 "metadata": {
  "interpreter": {
   "hash": "eec281f0a32709edd4ec2f92bd84041fad10cc50676165a1d287af8b0b2ea973"
  },
  "kernelspec": {
   "display_name": "Python 3.8.9 ('venv': venv)",
   "language": "python",
   "name": "python3"
  },
  "language_info": {
   "codemirror_mode": {
    "name": "ipython",
    "version": 3
   },
   "file_extension": ".py",
   "mimetype": "text/x-python",
   "name": "python",
   "nbconvert_exporter": "python",
   "pygments_lexer": "ipython3",
   "version": "3.8.9"
  },
  "orig_nbformat": 4
 },
 "nbformat": 4,
 "nbformat_minor": 2
}
