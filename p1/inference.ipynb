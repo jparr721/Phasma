{
 "cells": [
  {
   "cell_type": "code",
   "execution_count": 1,
   "metadata": {},
   "outputs": [
    {
     "name": "stdout",
     "output_type": "stream",
     "text": [
      "Loading: ./datasets/jelly_130.pkl\n",
      "max 1.0000000000000002 min -1.0\n",
      "max 1.0000000000000002 min -1.0\n"
     ]
    }
   ],
   "source": [
    "import numpy as np\n",
    "import os\n",
    "import pickle\n",
    "from sklearn.preprocessing import MinMaxScaler\n",
    "\n",
    "pkls = list(filter(lambda s: s.endswith(\".pkl\"), os.listdir(\"./datasets\")))\n",
    "\n",
    "slice = 0\n",
    "pkl = pkls[0]\n",
    "print(f\"Loading: ./datasets/{pkl}\")\n",
    "ds = pickle.load(open(f\"./datasets/{pkl}\", \"rb\"))\n",
    "\n",
    "ig, g = ds[slice].ig, ds[slice].g\n",
    "\n",
    "s = MinMaxScaler(feature_range=(-1, 1))\n",
    "\n",
    "ig = s.fit_transform(ig.reshape(-1, ig.shape[-1])).reshape(ig.shape)\n",
    "g = s.fit_transform(g.reshape(-1, g.shape[-1])).reshape(g.shape)\n",
    "\n",
    "print(\"max\", np.max(ig), \"min\", np.min(ig))\n",
    "print(\"max\", np.max(g), \"min\", np.min(g))\n",
    "\n",
    "pickle.dump(s, open(\"./scalar.pkl\", \"wb+\"))"
   ]
  },
  {
   "cell_type": "code",
   "execution_count": 37,
   "metadata": {},
   "outputs": [],
   "source": [
    "ogs = np.stack([v.g for v in ds])\n",
    "s = MinMaxScaler(feature_range=(-1, 1))\n",
    "gs = s.fit_transform(ogs.reshape(-1, ogs.shape[-1]))\n",
    "gs = s.inverse_transform(gs).reshape(ogs.shape)"
   ]
  },
  {
   "cell_type": "code",
   "execution_count": null,
   "metadata": {},
   "outputs": [],
   "source": []
  }
 ],
 "metadata": {
  "interpreter": {
   "hash": "5d0eaabd4cc74239b3982d10cf42722e495b7389533955554a0fd545d9a58ead"
  },
  "kernelspec": {
   "display_name": "Python 3.8.8 ('base')",
   "language": "python",
   "name": "python3"
  },
  "language_info": {
   "codemirror_mode": {
    "name": "ipython",
    "version": 3
   },
   "file_extension": ".py",
   "mimetype": "text/x-python",
   "name": "python",
   "nbconvert_exporter": "python",
   "pygments_lexer": "ipython3",
   "version": "3.8.8"
  },
  "orig_nbformat": 4
 },
 "nbformat": 4,
 "nbformat_minor": 2
}
